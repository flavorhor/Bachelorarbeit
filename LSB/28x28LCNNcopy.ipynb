{
 "cells": [
  {
   "cell_type": "markdown",
   "metadata": {},
   "source": [
    "# 1. Imports"
   ]
  },
  {
   "cell_type": "code",
   "execution_count": 40,
   "metadata": {},
   "outputs": [],
   "source": [
    "import os\n",
    "import torch\n",
    "import torch.nn as nn\n",
    "import torch.nn.functional as F\n",
    "from torch.utils.data import DataLoader, random_split\n",
    "from torchvision import transforms, datasets\n",
    "import torch.optim as optim\n",
    "from tqdm import tqdm\n",
    "\n"
   ]
  },
  {
   "cell_type": "markdown",
   "metadata": {},
   "source": [
    "# 2. Dataset und DataLoader"
   ]
  },
  {
   "cell_type": "code",
   "execution_count": 41,
   "metadata": {},
   "outputs": [
    {
     "name": "stdout",
     "output_type": "stream",
     "text": [
      "Klassen zu Indizes: {'clean': 0, 'stego': 1}\n",
      "Total images: 70000\n"
     ]
    }
   ],
   "source": [
    "# Pfad zum Datenordner (wo 'clean' und 'stego' liegen)\n",
    "data_dir = r\"C:\\Users\\Flavio\\Bachelorarbeit\\LSB\\data_LSB\"\n",
    "\n",
    "# Transformation:\n",
    "transform = transforms.Compose([\n",
    "    transforms.Grayscale(),\n",
    "    transforms.Resize((28, 28)),\n",
    "    transforms.ToTensor()\n",
    "])\n",
    "\n",
    "\n",
    "full_dataset = datasets.ImageFolder(root=data_dir, transform=transform)\n",
    "\n",
    "print(\"Klassen zu Indizes:\", full_dataset.class_to_idx)\n",
    "print(\"Total images:\", len(full_dataset))\n"
   ]
  },
  {
   "cell_type": "markdown",
   "metadata": {},
   "source": [
    "# 3. Train-/Val-/Test-Split"
   ]
  },
  {
   "cell_type": "code",
   "execution_count": 42,
   "metadata": {},
   "outputs": [
    {
     "name": "stdout",
     "output_type": "stream",
     "text": [
      "Train: 56000 Val: 7000 Test: 7000\n"
     ]
    }
   ],
   "source": [
    "# Split: 80% Train, 10% Val, 10% Test\n",
    "train_size = int(0.8 * len(full_dataset))\n",
    "val_size   = int(0.1 * len(full_dataset))\n",
    "test_size  = len(full_dataset) - train_size - val_size\n",
    "\n",
    "train_dataset, val_dataset, test_dataset = random_split(\n",
    "    full_dataset,\n",
    "    [train_size, val_size, test_size],\n",
    "    generator=torch.Generator().manual_seed(42)  # für reproduzierbare Splits\n",
    ")\n",
    "\n",
    "# DataLoader\n",
    "batch_size = 64\n",
    "train_loader = DataLoader(train_dataset, batch_size=batch_size, shuffle=True)\n",
    "val_loader   = DataLoader(val_dataset, batch_size=batch_size, shuffle=False)\n",
    "test_loader  = DataLoader(test_dataset, batch_size=batch_size, shuffle=False)\n",
    "\n",
    "print(\"Train:\", len(train_dataset), \"Val:\", len(val_dataset), \"Test:\", len(test_dataset))\n"
   ]
  },
  {
   "cell_type": "markdown",
   "metadata": {},
   "source": [
    "# 4. High-Pass-Filter-Layer (optional)"
   ]
  },
  {
   "cell_type": "code",
   "execution_count": 43,
   "metadata": {},
   "outputs": [],
   "source": [
    "class HighpassConv(nn.Module):\n",
    "    def __init__(self):\n",
    "        super(HighpassConv, self).__init__()\n",
    "        # Laplacian Filter (3x3); \n",
    "        kernel = torch.tensor([[0, -1, 0],\n",
    "                               [-1, 4, -1],\n",
    "                               [0, -1, 0]], dtype=torch.float32)\n",
    "        # 1x1-Conv-Layer mit diesem Filter als festen Filter\n",
    "        self.conv = nn.Conv2d(1, 1, kernel_size=3, padding=1, bias=False)\n",
    "        # Gewichte setzen und einfrieren (man könnte auch feintuning erlauben)\n",
    "        self.conv.weight.data = kernel.unsqueeze(0).unsqueeze(0)\n",
    "        self.conv.weight.requires_grad = False  # hier true für feintuning\n",
    "\n",
    "    def forward(self, x):\n",
    "        return self.conv(x)"
   ]
  },
  {
   "cell_type": "markdown",
   "metadata": {},
   "source": [
    "# 5. Residual Block (vereinfacht)"
   ]
  },
  {
   "cell_type": "code",
   "execution_count": 44,
   "metadata": {},
   "outputs": [],
   "source": [
    "class ResidualBlock(nn.Module):\n",
    "    def __init__(self, channels, dilation=1, use_batchnorm=True):\n",
    "        super(ResidualBlock, self).__init__()\n",
    "        padding = dilation  # räumliche Auflösung erhalten\n",
    "        self.conv1 = nn.Conv2d(channels, channels, kernel_size=3, padding=padding, dilation=dilation)\n",
    "        self.bn1 = nn.BatchNorm2d(channels) if use_batchnorm else nn.Identity()\n",
    "        self.conv2 = nn.Conv2d(channels, channels, kernel_size=3, padding=padding, dilation=dilation)\n",
    "        self.bn2 = nn.BatchNorm2d(channels) if use_batchnorm else nn.Identity()\n",
    "        self.relu = nn.ReLU(inplace=True)\n",
    "\n",
    "    def forward(self, x):\n",
    "        residual = x\n",
    "        out = self.relu(self.bn1(self.conv1(x)))\n",
    "        out = self.bn2(self.conv2(out))\n",
    "        out += residual\n",
    "        return self.relu(out)"
   ]
  },
  {
   "cell_type": "markdown",
   "metadata": {},
   "source": [
    "# 6. Das Hauptmodell"
   ]
  },
  {
   "cell_type": "code",
   "execution_count": 45,
   "metadata": {},
   "outputs": [],
   "source": [
    "class SteganoNet(nn.Module):\n",
    "    def __init__(self, use_highpass=True):\n",
    "        super(SteganoNet, self).__init__()\n",
    "        self.use_highpass = use_highpass\n",
    "\n",
    "        # Highpass Filter benutzen oder nicht\n",
    "        if self.use_highpass:\n",
    "            self.highpass = HighpassConv()\n",
    "        else:\n",
    "            self.highpass = nn.Identity()\n",
    "\n",
    "        # Erste Convolution um Kanaldimension auf einen höheren Wert zu bringen (32)\n",
    "        self.conv1 = nn.Conv2d(1, 32, kernel_size=3, padding=1)\n",
    "        self.bn1 = nn.BatchNorm2d(32)\n",
    "        self.relu = nn.ReLU(inplace=True)\n",
    "\n",
    "        # Mehrere Residual-Blöcke mit unterschiedlichen Dilatationsfaktoren I\n",
    "        # => Informationen auf verschiedenen Skalen erfassen\n",
    "        self.resblock1 = ResidualBlock(32, dilation=1)\n",
    "        self.resblock2 = ResidualBlock(32, dilation=1)\n",
    "        self.resblock3 = ResidualBlock(32, dilation=2)\n",
    "        self.resblock4 = ResidualBlock(32, dilation=2)\n",
    "        \n",
    "        # Gegen Overfitting\n",
    "        self.dropout = nn.Dropout(0.25)\n",
    "        \n",
    "        # Kein Pooling! Evtl dann aber bei komplexeren Bildern\n",
    "        # Leichte Reduktion für globale Zusammenhänge => wichtig wenn ich anders embedde (zB mit WOW)\n",
    "        # strided conv halbiert Auflösung\n",
    "        self.downsample = nn.Conv2d(32, 64, kernel_size=3, stride=2, padding=1)\n",
    "        self.bn_down = nn.BatchNorm2d(64)\n",
    "        \n",
    "        # Weitere Residual Blöcke im kleineren (64-Channel) Feature-Raum\n",
    "        self.resblock5 = ResidualBlock(64, dilation=1)\n",
    "        self.resblock6 = ResidualBlock(64, dilation=1)\n",
    "        \n",
    "        # Global Average Pooling, um von 2D-Feature-Maps auf einen Vektor zu kommen\n",
    "        self.global_pool = nn.AdaptiveAvgPool2d(1)\n",
    "        # Abschließende Klassifikation mit 2 Klassen stego&clean\n",
    "        self.fc = nn.Linear(64, 2)\n",
    "\n",
    "    def forward(self, x):\n",
    "        # Highpass-Filter\n",
    "        x = self.highpass(x)\n",
    "        \n",
    "        # Erste Feature-Extraktion\n",
    "        x = self.relu(self.bn1(self.conv1(x)))\n",
    "        \n",
    "        # Mehrere Residual-Blöcke (ohne Änderung der Auflösung)\n",
    "        x = self.resblock1(x)\n",
    "        x = self.resblock2(x)\n",
    "        x = self.resblock3(x)\n",
    "        x = self.resblock4(x)\n",
    "        \n",
    "        # Gegen Overfitting\n",
    "        x = self.dropout(x)\n",
    "        \n",
    "        # Downsampling\n",
    "        x = self.relu(self.bn_down(self.downsample(x)))\n",
    "        \n",
    "        # Mehr res Blöcke/ kleinerer aber reicher Feature Raum\n",
    "        x = self.resblock5(x)\n",
    "        x = self.resblock6(x)\n",
    "        \n",
    "        # Global Average Pooling zur Reduktion auf einen Feature-Vektor\n",
    "        x = self.global_pool(x)  # [Batch, 64, 1, 1]\n",
    "        x = torch.flatten(x, 1)  # [Batch, 64]\n",
    "        x = self.fc(x)           # [Batch, 2] (logits für 2 Klassen)\n",
    "        return x"
   ]
  },
  {
   "cell_type": "markdown",
   "metadata": {},
   "source": [
    "# 7. Training & Validierung"
   ]
  },
  {
   "cell_type": "code",
   "execution_count": 46,
   "metadata": {},
   "outputs": [
    {
     "name": "stdout",
     "output_type": "stream",
     "text": [
      "Epoch 1/5\n"
     ]
    },
    {
     "name": "stderr",
     "output_type": "stream",
     "text": [
      "                                                             \r"
     ]
    },
    {
     "name": "stdout",
     "output_type": "stream",
     "text": [
      "Train Loss: 0.0149 | Train Accuracy: 0.9922\n",
      "Val Loss: 0.0000 | Val Accuracy: 1.0000\n",
      "\n",
      "Epoch 2/5\n"
     ]
    },
    {
     "name": "stderr",
     "output_type": "stream",
     "text": [
      "                                                             \r"
     ]
    },
    {
     "name": "stdout",
     "output_type": "stream",
     "text": [
      "Train Loss: 0.0000 | Train Accuracy: 1.0000\n",
      "Val Loss: 0.0000 | Val Accuracy: 1.0000\n",
      "\n",
      "Epoch 3/5\n"
     ]
    },
    {
     "name": "stderr",
     "output_type": "stream",
     "text": [
      "                                                             \r"
     ]
    },
    {
     "name": "stdout",
     "output_type": "stream",
     "text": [
      "Train Loss: 0.0000 | Train Accuracy: 1.0000\n",
      "Val Loss: 0.0000 | Val Accuracy: 1.0000\n",
      "\n",
      "Epoch 4/5\n"
     ]
    },
    {
     "name": "stderr",
     "output_type": "stream",
     "text": [
      "                                                             \r"
     ]
    },
    {
     "name": "stdout",
     "output_type": "stream",
     "text": [
      "Train Loss: 0.0000 | Train Accuracy: 1.0000\n",
      "Val Loss: 0.0000 | Val Accuracy: 1.0000\n",
      "\n",
      "Epoch 5/5\n"
     ]
    },
    {
     "name": "stderr",
     "output_type": "stream",
     "text": [
      "                                                             "
     ]
    },
    {
     "name": "stdout",
     "output_type": "stream",
     "text": [
      "Train Loss: 0.0000 | Train Accuracy: 1.0000\n",
      "Val Loss: 0.0000 | Val Accuracy: 1.0000\n",
      "\n",
      "Training abgeschlossen.\n"
     ]
    },
    {
     "name": "stderr",
     "output_type": "stream",
     "text": [
      "\r"
     ]
    }
   ],
   "source": [
    "# 3. Modell und Loss\n",
    "device = torch.device(\"cuda\" if torch.cuda.is_available() else \"cpu\")\n",
    "model = SteganoNet(use_highpass=True).to(device)\n",
    "criterion = nn.CrossEntropyLoss()\n",
    "optimizer = optim.Adam(model.parameters(), lr=1e-3)\n",
    "epochs = 5\n",
    "\n",
    "# 4. Training und Validierung\n",
    "def train(model, loader, criterion, optimizer):\n",
    "    model.train()\n",
    "    running_loss = 0.0\n",
    "    correct = 0\n",
    "    total = 0\n",
    "\n",
    "    for images, labels in tqdm(loader, desc=\"Training\", leave=False):\n",
    "        images, labels = images.to(device), labels.to(device)\n",
    "\n",
    "        # Forward-Pass\n",
    "        outputs = model(images)\n",
    "        loss = criterion(outputs, labels)\n",
    "\n",
    "        # Backward-Pass und Optimierung\n",
    "        optimizer.zero_grad()\n",
    "        loss.backward()\n",
    "        optimizer.step()\n",
    "\n",
    "        # Metriken aktualisieren\n",
    "        running_loss += loss.item() * images.size(0)\n",
    "        _, predicted = outputs.max(1)\n",
    "        correct += predicted.eq(labels).sum().item()\n",
    "        total += labels.size(0)\n",
    "\n",
    "    epoch_loss = running_loss / total\n",
    "    accuracy = correct / total\n",
    "    return epoch_loss, accuracy\n",
    "\n",
    "def validate(model, loader, criterion):\n",
    "    model.eval()\n",
    "    running_loss = 0.0\n",
    "    correct = 0\n",
    "    total = 0\n",
    "\n",
    "    with torch.no_grad():\n",
    "        for images, labels in tqdm(loader, desc=\"Validation\", leave=False):\n",
    "            images, labels = images.to(device), labels.to(device)\n",
    "\n",
    "            # Forward-Pass\n",
    "            outputs = model(images)\n",
    "            loss = criterion(outputs, labels)\n",
    "\n",
    "            # Metriken aktualisieren\n",
    "            running_loss += loss.item() * images.size(0)\n",
    "            _, predicted = outputs.max(1)\n",
    "            correct += predicted.eq(labels).sum().item()\n",
    "            total += labels.size(0)\n",
    "\n",
    "    epoch_loss = running_loss / total\n",
    "    accuracy = correct / total\n",
    "    return epoch_loss, accuracy\n",
    "\n",
    "# Haupt-Trainingsloop\n",
    "for epoch in range(epochs):\n",
    "    print(f\"Epoch {epoch + 1}/{epochs}\")\n",
    "\n",
    "    train_loss, train_acc = train(model, train_loader, criterion, optimizer)\n",
    "    val_loss, val_acc = validate(model, val_loader, criterion)\n",
    "\n",
    "    print(f\"Train Loss: {train_loss:.4f} | Train Accuracy: {train_acc:.4f}\")\n",
    "    print(f\"Val Loss: {val_loss:.4f} | Val Accuracy: {val_acc:.4f}\\n\")\n",
    "\n",
    "print(\"Training abgeschlossen.\")"
   ]
  },
  {
   "cell_type": "markdown",
   "metadata": {},
   "source": [
    "# 8. Testen auf dem Test-Set"
   ]
  },
  {
   "cell_type": "code",
   "execution_count": 47,
   "metadata": {},
   "outputs": [
    {
     "name": "stdout",
     "output_type": "stream",
     "text": [
      "Test Loss: 0.0000, Test Accuracy: 1.0000\n"
     ]
    }
   ],
   "source": [
    "model.eval()\n",
    "test_loss = 0.0\n",
    "correct = 0\n",
    "total = 0\n",
    "\n",
    "with torch.no_grad():\n",
    "    for test_x, test_y in test_loader:\n",
    "        test_x = test_x.to(device)\n",
    "        test_y = test_y.to(device)\n",
    "        \n",
    "        outputs = model(test_x)\n",
    "        loss_val = criterion(outputs, test_y)\n",
    "        test_loss += loss_val.item()\n",
    "        \n",
    "        _, predicted = outputs.max(1)\n",
    "        correct += (predicted == test_y).sum().item()\n",
    "        total += test_y.size(0)\n",
    "\n",
    "test_loss /= len(test_loader)\n",
    "test_acc = correct / total\n",
    "print(f\"Test Loss: {test_loss:.4f}, Test Accuracy: {test_acc:.4f}\")\n"
   ]
  },
  {
   "cell_type": "code",
   "execution_count": 48,
   "metadata": {},
   "outputs": [
    {
     "name": "stdout",
     "output_type": "stream",
     "text": [
      "Bild-Index: 0  ->  True Label: 1  |  Vorhersage: 1  |  Wahrscheinlichkeit: 1.0000\n",
      "Bild-Index: 1  ->  True Label: 1  |  Vorhersage: 1  |  Wahrscheinlichkeit: 1.0000\n",
      "Bild-Index: 2  ->  True Label: 1  |  Vorhersage: 1  |  Wahrscheinlichkeit: 1.0000\n",
      "Bild-Index: 3  ->  True Label: 0  |  Vorhersage: 0  |  Wahrscheinlichkeit: 1.0000\n",
      "Bild-Index: 4  ->  True Label: 0  |  Vorhersage: 0  |  Wahrscheinlichkeit: 1.0000\n",
      "Bild-Index: 5  ->  True Label: 0  |  Vorhersage: 0  |  Wahrscheinlichkeit: 1.0000\n",
      "Bild-Index: 6  ->  True Label: 0  |  Vorhersage: 0  |  Wahrscheinlichkeit: 1.0000\n",
      "Bild-Index: 7  ->  True Label: 1  |  Vorhersage: 1  |  Wahrscheinlichkeit: 1.0000\n",
      "Bild-Index: 8  ->  True Label: 1  |  Vorhersage: 1  |  Wahrscheinlichkeit: 1.0000\n",
      "Bild-Index: 9  ->  True Label: 0  |  Vorhersage: 0  |  Wahrscheinlichkeit: 1.0000\n",
      "Bild-Index: 10  ->  True Label: 1  |  Vorhersage: 1  |  Wahrscheinlichkeit: 1.0000\n",
      "Bild-Index: 11  ->  True Label: 1  |  Vorhersage: 1  |  Wahrscheinlichkeit: 1.0000\n",
      "Bild-Index: 12  ->  True Label: 0  |  Vorhersage: 0  |  Wahrscheinlichkeit: 1.0000\n",
      "Bild-Index: 13  ->  True Label: 1  |  Vorhersage: 1  |  Wahrscheinlichkeit: 1.0000\n",
      "Bild-Index: 14  ->  True Label: 0  |  Vorhersage: 0  |  Wahrscheinlichkeit: 1.0000\n",
      "Bild-Index: 15  ->  True Label: 0  |  Vorhersage: 0  |  Wahrscheinlichkeit: 1.0000\n",
      "Bild-Index: 16  ->  True Label: 1  |  Vorhersage: 1  |  Wahrscheinlichkeit: 1.0000\n",
      "Bild-Index: 17  ->  True Label: 0  |  Vorhersage: 0  |  Wahrscheinlichkeit: 1.0000\n",
      "Bild-Index: 18  ->  True Label: 0  |  Vorhersage: 0  |  Wahrscheinlichkeit: 1.0000\n",
      "Bild-Index: 19  ->  True Label: 1  |  Vorhersage: 1  |  Wahrscheinlichkeit: 1.0000\n",
      "Bild-Index: 20  ->  True Label: 0  |  Vorhersage: 0  |  Wahrscheinlichkeit: 1.0000\n",
      "Bild-Index: 21  ->  True Label: 0  |  Vorhersage: 0  |  Wahrscheinlichkeit: 1.0000\n",
      "Bild-Index: 22  ->  True Label: 1  |  Vorhersage: 1  |  Wahrscheinlichkeit: 1.0000\n",
      "Bild-Index: 23  ->  True Label: 0  |  Vorhersage: 0  |  Wahrscheinlichkeit: 1.0000\n",
      "Bild-Index: 24  ->  True Label: 1  |  Vorhersage: 1  |  Wahrscheinlichkeit: 1.0000\n",
      "Bild-Index: 25  ->  True Label: 0  |  Vorhersage: 0  |  Wahrscheinlichkeit: 1.0000\n",
      "Bild-Index: 26  ->  True Label: 0  |  Vorhersage: 0  |  Wahrscheinlichkeit: 1.0000\n",
      "Bild-Index: 27  ->  True Label: 1  |  Vorhersage: 1  |  Wahrscheinlichkeit: 1.0000\n",
      "Bild-Index: 28  ->  True Label: 0  |  Vorhersage: 0  |  Wahrscheinlichkeit: 1.0000\n",
      "Bild-Index: 29  ->  True Label: 1  |  Vorhersage: 1  |  Wahrscheinlichkeit: 1.0000\n",
      "Bild-Index: 30  ->  True Label: 1  |  Vorhersage: 1  |  Wahrscheinlichkeit: 1.0000\n",
      "Bild-Index: 31  ->  True Label: 0  |  Vorhersage: 0  |  Wahrscheinlichkeit: 1.0000\n",
      "Bild-Index: 32  ->  True Label: 0  |  Vorhersage: 0  |  Wahrscheinlichkeit: 1.0000\n",
      "Bild-Index: 33  ->  True Label: 0  |  Vorhersage: 0  |  Wahrscheinlichkeit: 1.0000\n",
      "Bild-Index: 34  ->  True Label: 0  |  Vorhersage: 0  |  Wahrscheinlichkeit: 1.0000\n",
      "Bild-Index: 35  ->  True Label: 0  |  Vorhersage: 0  |  Wahrscheinlichkeit: 1.0000\n",
      "Bild-Index: 36  ->  True Label: 0  |  Vorhersage: 0  |  Wahrscheinlichkeit: 1.0000\n",
      "Bild-Index: 37  ->  True Label: 1  |  Vorhersage: 1  |  Wahrscheinlichkeit: 1.0000\n",
      "Bild-Index: 38  ->  True Label: 1  |  Vorhersage: 1  |  Wahrscheinlichkeit: 1.0000\n",
      "Bild-Index: 39  ->  True Label: 0  |  Vorhersage: 0  |  Wahrscheinlichkeit: 1.0000\n",
      "Bild-Index: 40  ->  True Label: 0  |  Vorhersage: 0  |  Wahrscheinlichkeit: 1.0000\n",
      "Bild-Index: 41  ->  True Label: 0  |  Vorhersage: 0  |  Wahrscheinlichkeit: 1.0000\n",
      "Bild-Index: 42  ->  True Label: 1  |  Vorhersage: 1  |  Wahrscheinlichkeit: 1.0000\n",
      "Bild-Index: 43  ->  True Label: 1  |  Vorhersage: 1  |  Wahrscheinlichkeit: 1.0000\n",
      "Bild-Index: 44  ->  True Label: 0  |  Vorhersage: 0  |  Wahrscheinlichkeit: 1.0000\n",
      "Bild-Index: 45  ->  True Label: 0  |  Vorhersage: 0  |  Wahrscheinlichkeit: 1.0000\n",
      "Bild-Index: 46  ->  True Label: 1  |  Vorhersage: 1  |  Wahrscheinlichkeit: 1.0000\n",
      "Bild-Index: 47  ->  True Label: 0  |  Vorhersage: 0  |  Wahrscheinlichkeit: 1.0000\n",
      "Bild-Index: 48  ->  True Label: 0  |  Vorhersage: 0  |  Wahrscheinlichkeit: 1.0000\n",
      "Bild-Index: 49  ->  True Label: 1  |  Vorhersage: 1  |  Wahrscheinlichkeit: 1.0000\n",
      "Bild-Index: 50  ->  True Label: 0  |  Vorhersage: 0  |  Wahrscheinlichkeit: 1.0000\n",
      "Bild-Index: 51  ->  True Label: 0  |  Vorhersage: 0  |  Wahrscheinlichkeit: 1.0000\n",
      "Bild-Index: 52  ->  True Label: 0  |  Vorhersage: 0  |  Wahrscheinlichkeit: 1.0000\n",
      "Bild-Index: 53  ->  True Label: 0  |  Vorhersage: 0  |  Wahrscheinlichkeit: 1.0000\n",
      "Bild-Index: 54  ->  True Label: 1  |  Vorhersage: 1  |  Wahrscheinlichkeit: 1.0000\n",
      "Bild-Index: 55  ->  True Label: 1  |  Vorhersage: 1  |  Wahrscheinlichkeit: 1.0000\n",
      "Bild-Index: 56  ->  True Label: 1  |  Vorhersage: 1  |  Wahrscheinlichkeit: 1.0000\n",
      "Bild-Index: 57  ->  True Label: 0  |  Vorhersage: 0  |  Wahrscheinlichkeit: 1.0000\n",
      "Bild-Index: 58  ->  True Label: 1  |  Vorhersage: 1  |  Wahrscheinlichkeit: 1.0000\n",
      "Bild-Index: 59  ->  True Label: 1  |  Vorhersage: 1  |  Wahrscheinlichkeit: 1.0000\n",
      "Bild-Index: 60  ->  True Label: 1  |  Vorhersage: 1  |  Wahrscheinlichkeit: 1.0000\n",
      "Bild-Index: 61  ->  True Label: 0  |  Vorhersage: 0  |  Wahrscheinlichkeit: 1.0000\n",
      "Bild-Index: 62  ->  True Label: 1  |  Vorhersage: 1  |  Wahrscheinlichkeit: 1.0000\n",
      "Bild-Index: 63  ->  True Label: 1  |  Vorhersage: 1  |  Wahrscheinlichkeit: 1.0000\n"
     ]
    }
   ],
   "source": [
    "model.eval()  # Modell in Evaluierungsmodus\n",
    "all_predictions = {}\n",
    "\n",
    "with torch.no_grad():\n",
    "    for images, labels in test_loader:\n",
    "        images, labels = images.to(device), labels.to(device)\n",
    "        outputs = model(images)\n",
    "        probabilities = torch.softmax(outputs, dim=1)  # Wahrscheinlichkeiten für jede Klasse\n",
    "        preds = probabilities.argmax(dim=1)  # Höchste Wahrscheinlichkeiten\n",
    "        \n",
    "        # Speichere Ergebnisse in einem Dictionary\n",
    "        for i, (prob, pred, label) in enumerate(zip(probabilities, preds, labels)):\n",
    "            all_predictions[i] = {\n",
    "                \"true_label\": label.item(),\n",
    "                \"predicted_label\": pred.item(),\n",
    "                \"probability\": prob[pred].item(),  # Wahrscheinlichkeit vorhergesagter Klasse\n",
    "            }\n",
    "\n",
    "for idx, result in all_predictions.items():\n",
    "    print(\n",
    "        f\"Bild-Index: {idx}  ->  \"\n",
    "        f\"True Label: {result['true_label']}  |  \"\n",
    "        f\"Vorhersage: {result['predicted_label']}  |  \"\n",
    "        f\"Wahrscheinlichkeit: {result['probability']:.4f}\"\n",
    "    )\n"
   ]
  },
  {
   "cell_type": "markdown",
   "metadata": {},
   "source": [
    "## 9. Weitere Analyse"
   ]
  },
  {
   "cell_type": "code",
   "execution_count": 49,
   "metadata": {},
   "outputs": [
    {
     "data": {
      "image/png": "[encoded data removed]",
      "text/plain": [
       "<Figure size 1500x1500 with 8 Axes>"
      ]
     },
     "metadata": {},
     "output_type": "display_data"
    }
   ],
   "source": [
    "import matplotlib.pyplot as plt\n",
    "\n",
    "# Visualisierung der Feature Maps\n",
    "def visualize_feature_maps(model, image):\n",
    "    model.eval()\n",
    "    activations = []\n",
    "    \n",
    "    # Aktivierungen speichern\n",
    "    def hook_fn(module, input, output):\n",
    "        activations.append(output)\n",
    "    \n",
    "    # Registriere Hook auf gewünschter Schicht\n",
    "    layer = model.conv1  # Schicht die ich haben will\n",
    "    hook = layer.register_forward_hook(hook_fn)\n",
    "    \n",
    "    # Leite Bild durch Modell\n",
    "    #with torch.no_grad():\n",
    "    image = image.unsqueeze(0).to(device)  # Batch-Dimension hinzufügen\n",
    "    model(image)\n",
    "    \n",
    "    # Entferne Hook\n",
    "    hook.remove()\n",
    "    \n",
    "    # Feature Maps visualisieren\n",
    "    feature_maps = activations[0].cpu().squeeze(0)  # Batch-Dimension entfernen\n",
    "    num_maps = feature_maps.shape[0]\n",
    "    \n",
    "    fig, axes = plt.subplots(1, min(8, num_maps), figsize=(15, 15))\n",
    "    for i in range(min(8, num_maps)):  # Anzahl an Karten die angezeigt werden\n",
    "        ax = axes[i]\n",
    "        ax.imshow(feature_maps[i].detach().numpy(), cmap='viridis')\n",
    "        ax.axis('off')\n",
    "    plt.show()\n",
    "\n",
    "# Aufruf\n",
    "test_image, _ = test_dataset[0]\n",
    "visualize_feature_maps(model, test_image)\n"
   ]
  },
  {
   "cell_type": "code",
   "execution_count": 50,
   "metadata": {},
   "outputs": [
    {
     "data": {
      "image/png": "[encoded data removed]",
      "text/plain": [
       "<Figure size 1000x500 with 2 Axes>"
      ]
     },
     "metadata": {},
     "output_type": "display_data"
    }
   ],
   "source": [
    "from torchcam.methods import SmoothGradCAMpp\n",
    "from torchvision.transforms.functional import to_pil_image\n",
    "import matplotlib.pyplot as plt\n",
    "\n",
    "# Grad-CAM-Objekt erstellen und Zielschicht anpassen (z. B. letzte Convolutional-Schicht)\n",
    "target_layer = model.resblock4.conv2\n",
    "cam_extractor = SmoothGradCAMpp(model, target_layer=target_layer)\n",
    "\n",
    "\n",
    "model.eval()  # Evaluierungsmodus\n",
    "image, _ = test_dataset[0]  # Bild auswählen\n",
    "input_tensor = image.unsqueeze(0).to(device)  # Batch-Dimension hinzufügen\n",
    "\n",
    "# Vorhersage\n",
    "output = model(input_tensor)\n",
    "prediction = output.argmax(dim=1).item()\n",
    "\n",
    "# Grad-CAM-Karte berechnen\n",
    "activation_map = cam_extractor(prediction, output)\n",
    "\n",
    "# Visualisieren\n",
    "plt.figure(figsize=(10, 5))\n",
    "plt.subplot(1, 2, 1)\n",
    "plt.title(\"Originalbild\")\n",
    "plt.imshow(image.squeeze(0).cpu().numpy(), cmap='gray')\n",
    "plt.axis('off')\n",
    "\n",
    "plt.subplot(1, 2, 2)\n",
    "plt.title(\"Grad-CAM\")\n",
    "plt.imshow(image.squeeze(0).cpu().numpy(), cmap='gray', alpha=0.5)  # Originalbild\n",
    "plt.imshow(activation_map[0].squeeze().cpu().numpy(), cmap='jet', alpha=0.5)  # Grad-CAM-Karte\n",
    "plt.axis('off')\n",
    "\n",
    "plt.show()\n"
   ]
  },
  {
   "cell_type": "markdown",
   "metadata": {},
   "source": [
    "## 10. To Do`s"
   ]
  },
  {
   "cell_type": "markdown",
   "metadata": {},
   "source": [
    "Sachen noch zum Evaluieren des Models:\n",
    "- versch. Highpass Filter verwenden, gucken was passiert (ist jetziger Optimal?)\n",
    "- nachsehen inwiefern der die entscheidenen Pixel gehighlighted werden (mit Grad-Cam Pixel Highlights ansehen und dann schauen welche Pixel am meisten verändert wurden zum original Bild)\n",
    "- andere Stego implemetierungen nutzen/ sehen ob das auch erkennt wird S- Uniward oder WOW zb\n",
    "- Model struktur evtl. nochmals anpassen => wie reagiert es darauf => rausfinden was jetzt der springende Punkt war\n",
    "- model auf härtere Daten testen => bis auf wie viel byte embeddete Daten kann ich runter gehen??\n",
    "\n",
    "\n",
    "Ansonsten:\n",
    "- implementieren einer SVM die das Probolem lösen kann (Im Titel steht comparative Study) => wäre interessant zu sehen wie andere RL Algorithmen performen => starkes Preprocessing durch X2 usw. nötig\n",
    "- Schreiben anfangen!! Dann sehen wie viel Zeit übrig ist für weitere Untersuchungen\n",
    "- Falls ich nochmal komplexere Daten verwende denken an: Daten-Augmentierung, Hyperparametertuning, Curriculum Training, Early Stopping, Learning-Rate-Scheduler, Cross-Validation \n",
    "\n"
   ]
  }
 ],
 "metadata": {
  "kernelspec": {
   "display_name": "venv",
   "language": "python",
   "name": "python3"
  },
  "language_info": {
   "codemirror_mode": {
    "name": "ipython",
    "version": 3
   },
   "file_extension": ".py",
   "mimetype": "text/x-python",
   "name": "python",
   "nbconvert_exporter": "python",
   "pygments_lexer": "ipython3",
   "version": "3.11.9"
  }
 },
 "nbformat": 4,
 "nbformat_minor": 2
}
