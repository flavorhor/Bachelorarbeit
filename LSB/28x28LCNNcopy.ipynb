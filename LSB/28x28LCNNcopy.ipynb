{
 "cells": [
  {
   "cell_type": "markdown",
   "metadata": {},
   "source": [
    "# 1. Imports"
   ]
  },
  {
   "cell_type": "code",
   "execution_count": 3,
   "metadata": {},
   "outputs": [],
   "source": [
    "import os\n",
    "import torch\n",
    "import torch.nn as nn\n",
    "import torch.nn.functional as F\n",
    "from torch.utils.data import DataLoader, random_split\n",
    "from torchvision import transforms, datasets\n",
    "import torch.optim as optim\n",
    "from tqdm import tqdm\n",
    "\n"
   ]
  },
  {
   "cell_type": "markdown",
   "metadata": {},
   "source": [
    "# 2. Dataset und DataLoader"
   ]
  },
  {
   "cell_type": "code",
   "execution_count": 4,
   "metadata": {},
   "outputs": [
    {
     "name": "stdout",
     "output_type": "stream",
     "text": [
      "Klassen zu Indizes: {'clean': 0, 'stego': 1}\n",
      "Total images: 70000\n"
     ]
    }
   ],
   "source": [
    "# Pfad zum Datenordner (wo 'clean' und 'stego' liegen)\n",
    "data_dir = r\"C:\\Users\\Flavio\\Bachelorarbeit\\LSB\\data_LSB\"\n",
    "\n",
    "# Transformation:\n",
    "transform = transforms.Compose([\n",
    "    transforms.Grayscale(),\n",
    "    transforms.Resize((28, 28)),\n",
    "    transforms.ToTensor()\n",
    "])\n",
    "\n",
    "\n",
    "full_dataset = datasets.ImageFolder(root=data_dir, transform=transform)\n",
    "\n",
    "print(\"Klassen zu Indizes:\", full_dataset.class_to_idx)\n",
    "print(\"Total images:\", len(full_dataset))\n"
   ]
  },
  {
   "cell_type": "markdown",
   "metadata": {},
   "source": [
    "# 3. Train-/Val-/Test-Split"
   ]
  },
  {
   "cell_type": "code",
   "execution_count": 5,
   "metadata": {},
   "outputs": [
    {
     "name": "stdout",
     "output_type": "stream",
     "text": [
      "Train: 56000 Val: 7000 Test: 7000\n"
     ]
    }
   ],
   "source": [
    "# Split: 80% Train, 10% Val, 10% Test\n",
    "train_size = int(0.8 * len(full_dataset))\n",
    "val_size   = int(0.1 * len(full_dataset))\n",
    "test_size  = len(full_dataset) - train_size - val_size\n",
    "\n",
    "train_dataset, val_dataset, test_dataset = random_split(\n",
    "    full_dataset,\n",
    "    [train_size, val_size, test_size],\n",
    "    generator=torch.Generator().manual_seed(42)  # für reproduzierbare Splits\n",
    ")\n",
    "\n",
    "# DataLoader\n",
    "batch_size = 64\n",
    "train_loader = DataLoader(train_dataset, batch_size=batch_size, shuffle=True)\n",
    "val_loader   = DataLoader(val_dataset, batch_size=batch_size, shuffle=False)\n",
    "test_loader  = DataLoader(test_dataset, batch_size=batch_size, shuffle=False)\n",
    "\n",
    "print(\"Train:\", len(train_dataset), \"Val:\", len(val_dataset), \"Test:\", len(test_dataset))\n"
   ]
  },
  {
   "cell_type": "markdown",
   "metadata": {},
   "source": [
    "# 4. High-Pass-Filter-Layer (optional)"
   ]
  },
  {
   "cell_type": "code",
   "execution_count": 6,
   "metadata": {},
   "outputs": [],
   "source": [
    "class HighpassConv(nn.Module):\n",
    "    def __init__(self):\n",
    "        super(HighpassConv, self).__init__()\n",
    "        # Laplacian Filter (3x3); \n",
    "        kernel = torch.tensor([[0, -1, 0],\n",
    "                               [-1, 4, -1],\n",
    "                               [0, -1, 0]], dtype=torch.float32) # => verstärkt das rauschen!\n",
    "        # 1x1-Conv-Layer mit diesem Filter als festen Filter\n",
    "        self.conv = nn.Conv2d(1, 1, kernel_size=3, padding=1, bias=False)\n",
    "        # Gewichte setzen und einfrieren (man könnte auch feintuning erlauben)\n",
    "        self.conv.weight.data = kernel.unsqueeze(0).unsqueeze(0)\n",
    "        self.conv.weight.requires_grad = False  # hier true für feintuning\n",
    "\n",
    "    def forward(self, x):\n",
    "        return self.conv(x)"
   ]
  },
  {
   "cell_type": "markdown",
   "metadata": {},
   "source": [
    "# 5. Residual Block (vereinfacht)"
   ]
  },
  {
   "cell_type": "code",
   "execution_count": 7,
   "metadata": {},
   "outputs": [],
   "source": [
    "class ResidualBlock(nn.Module):\n",
    "    def __init__(self, channels, dilation=1, use_batchnorm=True):\n",
    "        super(ResidualBlock, self).__init__()\n",
    "        padding = dilation  # räumliche Auflösung erhalten\n",
    "        self.conv1 = nn.Conv2d(channels, channels, kernel_size=3, padding=padding, dilation=dilation)\n",
    "        self.bn1 = nn.BatchNorm2d(channels) if use_batchnorm else nn.Identity()\n",
    "        self.conv2 = nn.Conv2d(channels, channels, kernel_size=3, padding=padding, dilation=dilation)\n",
    "        self.bn2 = nn.BatchNorm2d(channels) if use_batchnorm else nn.Identity()\n",
    "        self.relu = nn.ReLU(inplace=True)\n",
    "\n",
    "    def forward(self, x):\n",
    "        residual = x\n",
    "        out = self.relu(self.bn1(self.conv1(x)))\n",
    "        out = self.bn2(self.conv2(out))\n",
    "        out += residual\n",
    "        return self.relu(out)"
   ]
  },
  {
   "cell_type": "markdown",
   "metadata": {},
   "source": [
    "# 6. Das Hauptmodell"
   ]
  },
  {
   "cell_type": "code",
   "execution_count": 8,
   "metadata": {},
   "outputs": [],
   "source": [
    "class SteganoNet(nn.Module):\n",
    "    def __init__(self, use_highpass=True):\n",
    "        super(SteganoNet, self).__init__()\n",
    "        self.use_highpass = use_highpass\n",
    "\n",
    "        # Highpass Filter benutzen oder nicht\n",
    "        if self.use_highpass:\n",
    "            self.highpass = HighpassConv()\n",
    "        else:\n",
    "            self.highpass = nn.Identity()\n",
    "\n",
    "        # Erste Convolution um Kanaldimension auf einen höheren Wert zu bringen (32)\n",
    "        self.conv1 = nn.Conv2d(1, 32, kernel_size=3, padding=1)\n",
    "        self.bn1 = nn.BatchNorm2d(32)\n",
    "        self.relu = nn.ReLU(inplace=True)\n",
    "\n",
    "        # Mehrere Residual-Blöcke mit unterschiedlichen Dilatationsfaktoren I\n",
    "        # => Informationen auf verschiedenen Skalen erfassen => außerdem weniger Downsampling, Informationserfassung über größere Distanzen\n",
    "        self.resblock1 = ResidualBlock(32, dilation=1)\n",
    "        self.resblock2 = ResidualBlock(32, dilation=1)\n",
    "        self.resblock3 = ResidualBlock(32, dilation=2)\n",
    "        self.resblock4 = ResidualBlock(32, dilation=2)\n",
    "        \n",
    "        # Gegen Overfitting\n",
    "        self.dropout = nn.Dropout(0.25)\n",
    "        \n",
    "        # Kein Pooling! Evtl dann aber bei komplexeren Bildern\n",
    "        # Leichte Reduktion für globale Zusammenhänge => wichtig wenn ich anders embedde (zB mit WOW)\n",
    "        # strided conv halbiert Auflösung\n",
    "        self.downsample = nn.Conv2d(32, 64, kernel_size=3, stride=2, padding=1)\n",
    "        self.bn_down = nn.BatchNorm2d(64)\n",
    "        \n",
    "        # Weitere Residual Blöcke im kleineren (64-Channel) Feature-Raum\n",
    "        self.resblock5 = ResidualBlock(64, dilation=1)\n",
    "        self.resblock6 = ResidualBlock(64, dilation=1)\n",
    "        \n",
    "        # Global Average Pooling, um von 2D-Feature-Maps auf einen Vektor zu kommen\n",
    "        self.global_pool = nn.AdaptiveAvgPool2d(1)\n",
    "        # Abschließende Klassifikation mit 2 Klassen stego&clean\n",
    "        self.fc = nn.Linear(64, 2)\n",
    "\n",
    "    def forward(self, x):\n",
    "        # Highpass-Filter\n",
    "        x = self.highpass(x)\n",
    "        \n",
    "        # Erste Feature-Extraktion\n",
    "        x = self.relu(self.bn1(self.conv1(x)))\n",
    "        \n",
    "        # Mehrere Residual-Blöcke (ohne Änderung der Auflösung)\n",
    "        x = self.resblock1(x)\n",
    "        x = self.resblock2(x)\n",
    "        x = self.resblock3(x)\n",
    "        x = self.resblock4(x)\n",
    "        \n",
    "        # Gegen Overfitting\n",
    "        x = self.dropout(x)\n",
    "        \n",
    "        # Downsampling\n",
    "        x = self.relu(self.bn_down(self.downsample(x)))\n",
    "        \n",
    "        # Mehr res Blöcke/ kleinerer aber reicher Feature Raum\n",
    "        x = self.resblock5(x)\n",
    "        x = self.resblock6(x)\n",
    "        \n",
    "        # Global Average Pooling zur Reduktion auf einen Feature-Vektor\n",
    "        x = self.global_pool(x)  # [Batch, 64, 1, 1]\n",
    "        x = torch.flatten(x, 1)  # [Batch, 64]\n",
    "        x = self.fc(x)           # [Batch, 2] (logits für 2 Klassen)\n",
    "        return x"
   ]
  },
  {
   "cell_type": "markdown",
   "metadata": {},
   "source": [
    "# 7. Training & Validierung"
   ]
  },
  {
   "cell_type": "code",
   "execution_count": 9,
   "metadata": {},
   "outputs": [
    {
     "name": "stdout",
     "output_type": "stream",
     "text": [
      "Epoch 1/5\n"
     ]
    },
    {
     "name": "stderr",
     "output_type": "stream",
     "text": [
      "                                                             \r"
     ]
    },
    {
     "name": "stdout",
     "output_type": "stream",
     "text": [
      "Train Loss: 0.0413 | Train Accuracy: 0.9739\n",
      "Val Loss: 0.0000 | Val Accuracy: 1.0000\n",
      "\n",
      "Epoch 2/5\n"
     ]
    },
    {
     "name": "stderr",
     "output_type": "stream",
     "text": [
      "                                                             \r"
     ]
    },
    {
     "name": "stdout",
     "output_type": "stream",
     "text": [
      "Train Loss: 0.0032 | Train Accuracy: 0.9992\n",
      "Val Loss: 0.0002 | Val Accuracy: 1.0000\n",
      "\n",
      "Epoch 3/5\n"
     ]
    },
    {
     "name": "stderr",
     "output_type": "stream",
     "text": [
      "                                                             \r"
     ]
    },
    {
     "name": "stdout",
     "output_type": "stream",
     "text": [
      "Train Loss: 0.0001 | Train Accuracy: 1.0000\n",
      "Val Loss: 0.0000 | Val Accuracy: 1.0000\n",
      "\n",
      "Epoch 4/5\n"
     ]
    },
    {
     "name": "stderr",
     "output_type": "stream",
     "text": [
      "                                                             \r"
     ]
    },
    {
     "name": "stdout",
     "output_type": "stream",
     "text": [
      "Train Loss: 0.0000 | Train Accuracy: 1.0000\n",
      "Val Loss: 0.0000 | Val Accuracy: 1.0000\n",
      "\n",
      "Epoch 5/5\n"
     ]
    },
    {
     "name": "stderr",
     "output_type": "stream",
     "text": [
      "                                                             "
     ]
    },
    {
     "name": "stdout",
     "output_type": "stream",
     "text": [
      "Train Loss: 0.0000 | Train Accuracy: 1.0000\n",
      "Val Loss: 0.0000 | Val Accuracy: 1.0000\n",
      "\n",
      "Training abgeschlossen.\n"
     ]
    },
    {
     "name": "stderr",
     "output_type": "stream",
     "text": [
      "\r"
     ]
    }
   ],
   "source": [
    "# 3. Modell und Loss\n",
    "device = torch.device(\"cuda\" if torch.cuda.is_available() else \"cpu\")\n",
    "model = SteganoNet(use_highpass=True).to(device)\n",
    "criterion = nn.CrossEntropyLoss()\n",
    "optimizer = optim.Adam(model.parameters(), lr=1e-3)\n",
    "epochs = 5\n",
    "\n",
    "# 4. Training und Validierung\n",
    "def train(model, loader, criterion, optimizer):\n",
    "    model.train()\n",
    "    running_loss = 0.0\n",
    "    correct = 0\n",
    "    total = 0\n",
    "\n",
    "    for images, labels in tqdm(loader, desc=\"Training\", leave=False):\n",
    "        images, labels = images.to(device), labels.to(device)\n",
    "\n",
    "        # Forward-Pass\n",
    "        outputs = model(images)\n",
    "        loss = criterion(outputs, labels)\n",
    "\n",
    "        # Backward-Pass und Optimierung\n",
    "        optimizer.zero_grad()\n",
    "        loss.backward()\n",
    "        optimizer.step()\n",
    "\n",
    "        # Metriken aktualisieren\n",
    "        running_loss += loss.item() * images.size(0)\n",
    "        _, predicted = outputs.max(1)\n",
    "        correct += predicted.eq(labels).sum().item()\n",
    "        total += labels.size(0)\n",
    "\n",
    "    epoch_loss = running_loss / total\n",
    "    accuracy = correct / total\n",
    "    return epoch_loss, accuracy\n",
    "\n",
    "def validate(model, loader, criterion):\n",
    "    model.eval()\n",
    "    running_loss = 0.0\n",
    "    correct = 0\n",
    "    total = 0\n",
    "\n",
    "    with torch.no_grad():\n",
    "        for images, labels in tqdm(loader, desc=\"Validation\", leave=False):\n",
    "            images, labels = images.to(device), labels.to(device)\n",
    "\n",
    "            # Forward-Pass\n",
    "            outputs = model(images)\n",
    "            loss = criterion(outputs, labels)\n",
    "\n",
    "            # Metriken aktualisieren\n",
    "            running_loss += loss.item() * images.size(0)\n",
    "            _, predicted = outputs.max(1)\n",
    "            correct += predicted.eq(labels).sum().item()\n",
    "            total += labels.size(0)\n",
    "\n",
    "    epoch_loss = running_loss / total\n",
    "    accuracy = correct / total\n",
    "    return epoch_loss, accuracy\n",
    "\n",
    "# Haupt-Trainingsloop\n",
    "for epoch in range(epochs):\n",
    "    print(f\"Epoch {epoch + 1}/{epochs}\")\n",
    "\n",
    "    train_loss, train_acc = train(model, train_loader, criterion, optimizer)\n",
    "    val_loss, val_acc = validate(model, val_loader, criterion)\n",
    "\n",
    "    print(f\"Train Loss: {train_loss:.4f} | Train Accuracy: {train_acc:.4f}\")\n",
    "    print(f\"Val Loss: {val_loss:.4f} | Val Accuracy: {val_acc:.4f}\\n\")\n",
    "\n",
    "print(\"Training abgeschlossen.\")"
   ]
  },
  {
   "cell_type": "code",
   "execution_count": 10,
   "metadata": {},
   "outputs": [
    {
     "name": "stdout",
     "output_type": "stream",
     "text": [
      "Modell erfolgreich gespeichert!\n"
     ]
    }
   ],
   "source": [
    "# Model state speichern\n",
    "torch.save(model.state_dict(), \"CNN_28x28L.pth\")\n",
    "print(\"Modell erfolgreich gespeichert!\")\n"
   ]
  },
  {
   "cell_type": "code",
   "execution_count": 88,
   "metadata": {},
   "outputs": [
    {
     "name": "stdout",
     "output_type": "stream",
     "text": [
      "Komplettes Modell erfolgreich gespeichert!\n"
     ]
    }
   ],
   "source": [
    "# Gesamtes Model speichern\n",
    "torch.save(model, \"CNN_28x28L_complete.pth\")\n",
    "print(\"Komplettes Modell erfolgreich gespeichert!\")\n"
   ]
  },
  {
   "cell_type": "code",
   "execution_count": null,
   "metadata": {},
   "outputs": [],
   "source": [
    "# Modell wieder laden\n",
    "model = SteganoNet()  # Neues Modell erstellen (mit derselben Architektur)\n",
    "model.load_state_dict(torch.load(\"stegano_model.pth\"))\n",
    "model.eval()  # Modell in den Evaluierungsmodus versetzen\n",
    "print(\"Modell erfolgreich geladen!\")\n"
   ]
  },
  {
   "cell_type": "markdown",
   "metadata": {},
   "source": [
    "# 8. Testen auf dem Test-Set"
   ]
  },
  {
   "cell_type": "code",
   "execution_count": 11,
   "metadata": {},
   "outputs": [
    {
     "name": "stdout",
     "output_type": "stream",
     "text": [
      "Test Loss: 0.0000, Test Accuracy: 1.0000\n"
     ]
    }
   ],
   "source": [
    "model.eval()\n",
    "test_loss = 0.0\n",
    "correct = 0\n",
    "total = 0\n",
    "\n",
    "with torch.no_grad():\n",
    "    for test_x, test_y in test_loader:\n",
    "        test_x = test_x.to(device)\n",
    "        test_y = test_y.to(device)\n",
    "        \n",
    "        outputs = model(test_x)\n",
    "        loss_val = criterion(outputs, test_y)\n",
    "        test_loss += loss_val.item()\n",
    "        \n",
    "        _, predicted = outputs.max(1)\n",
    "        correct += (predicted == test_y).sum().item()\n",
    "        total += test_y.size(0)\n",
    "\n",
    "test_loss /= len(test_loader)\n",
    "test_acc = correct / total\n",
    "print(f\"Test Loss: {test_loss:.4f}, Test Accuracy: {test_acc:.4f}\")\n"
   ]
  },
  {
   "cell_type": "code",
   "execution_count": 48,
   "metadata": {},
   "outputs": [
    {
     "name": "stdout",
     "output_type": "stream",
     "text": [
      "Bild-Index: 0  ->  True Label: 1  |  Vorhersage: 1  |  Wahrscheinlichkeit: 1.0000\n",
      "Bild-Index: 1  ->  True Label: 1  |  Vorhersage: 1  |  Wahrscheinlichkeit: 1.0000\n",
      "Bild-Index: 2  ->  True Label: 1  |  Vorhersage: 1  |  Wahrscheinlichkeit: 1.0000\n",
      "Bild-Index: 3  ->  True Label: 0  |  Vorhersage: 0  |  Wahrscheinlichkeit: 1.0000\n",
      "Bild-Index: 4  ->  True Label: 0  |  Vorhersage: 0  |  Wahrscheinlichkeit: 1.0000\n",
      "Bild-Index: 5  ->  True Label: 0  |  Vorhersage: 0  |  Wahrscheinlichkeit: 1.0000\n",
      "Bild-Index: 6  ->  True Label: 0  |  Vorhersage: 0  |  Wahrscheinlichkeit: 1.0000\n",
      "Bild-Index: 7  ->  True Label: 1  |  Vorhersage: 1  |  Wahrscheinlichkeit: 1.0000\n",
      "Bild-Index: 8  ->  True Label: 1  |  Vorhersage: 1  |  Wahrscheinlichkeit: 1.0000\n",
      "Bild-Index: 9  ->  True Label: 0  |  Vorhersage: 0  |  Wahrscheinlichkeit: 1.0000\n",
      "Bild-Index: 10  ->  True Label: 1  |  Vorhersage: 1  |  Wahrscheinlichkeit: 1.0000\n",
      "Bild-Index: 11  ->  True Label: 1  |  Vorhersage: 1  |  Wahrscheinlichkeit: 1.0000\n",
      "Bild-Index: 12  ->  True Label: 0  |  Vorhersage: 0  |  Wahrscheinlichkeit: 1.0000\n",
      "Bild-Index: 13  ->  True Label: 1  |  Vorhersage: 1  |  Wahrscheinlichkeit: 1.0000\n",
      "Bild-Index: 14  ->  True Label: 0  |  Vorhersage: 0  |  Wahrscheinlichkeit: 1.0000\n",
      "Bild-Index: 15  ->  True Label: 0  |  Vorhersage: 0  |  Wahrscheinlichkeit: 1.0000\n",
      "Bild-Index: 16  ->  True Label: 1  |  Vorhersage: 1  |  Wahrscheinlichkeit: 1.0000\n",
      "Bild-Index: 17  ->  True Label: 0  |  Vorhersage: 0  |  Wahrscheinlichkeit: 1.0000\n",
      "Bild-Index: 18  ->  True Label: 0  |  Vorhersage: 0  |  Wahrscheinlichkeit: 1.0000\n",
      "Bild-Index: 19  ->  True Label: 1  |  Vorhersage: 1  |  Wahrscheinlichkeit: 1.0000\n",
      "Bild-Index: 20  ->  True Label: 0  |  Vorhersage: 0  |  Wahrscheinlichkeit: 1.0000\n",
      "Bild-Index: 21  ->  True Label: 0  |  Vorhersage: 0  |  Wahrscheinlichkeit: 1.0000\n",
      "Bild-Index: 22  ->  True Label: 1  |  Vorhersage: 1  |  Wahrscheinlichkeit: 1.0000\n",
      "Bild-Index: 23  ->  True Label: 0  |  Vorhersage: 0  |  Wahrscheinlichkeit: 1.0000\n",
      "Bild-Index: 24  ->  True Label: 1  |  Vorhersage: 1  |  Wahrscheinlichkeit: 1.0000\n",
      "Bild-Index: 25  ->  True Label: 0  |  Vorhersage: 0  |  Wahrscheinlichkeit: 1.0000\n",
      "Bild-Index: 26  ->  True Label: 0  |  Vorhersage: 0  |  Wahrscheinlichkeit: 1.0000\n",
      "Bild-Index: 27  ->  True Label: 1  |  Vorhersage: 1  |  Wahrscheinlichkeit: 1.0000\n",
      "Bild-Index: 28  ->  True Label: 0  |  Vorhersage: 0  |  Wahrscheinlichkeit: 1.0000\n",
      "Bild-Index: 29  ->  True Label: 1  |  Vorhersage: 1  |  Wahrscheinlichkeit: 1.0000\n",
      "Bild-Index: 30  ->  True Label: 1  |  Vorhersage: 1  |  Wahrscheinlichkeit: 1.0000\n",
      "Bild-Index: 31  ->  True Label: 0  |  Vorhersage: 0  |  Wahrscheinlichkeit: 1.0000\n",
      "Bild-Index: 32  ->  True Label: 0  |  Vorhersage: 0  |  Wahrscheinlichkeit: 1.0000\n",
      "Bild-Index: 33  ->  True Label: 0  |  Vorhersage: 0  |  Wahrscheinlichkeit: 1.0000\n",
      "Bild-Index: 34  ->  True Label: 0  |  Vorhersage: 0  |  Wahrscheinlichkeit: 1.0000\n",
      "Bild-Index: 35  ->  True Label: 0  |  Vorhersage: 0  |  Wahrscheinlichkeit: 1.0000\n",
      "Bild-Index: 36  ->  True Label: 0  |  Vorhersage: 0  |  Wahrscheinlichkeit: 1.0000\n",
      "Bild-Index: 37  ->  True Label: 1  |  Vorhersage: 1  |  Wahrscheinlichkeit: 1.0000\n",
      "Bild-Index: 38  ->  True Label: 1  |  Vorhersage: 1  |  Wahrscheinlichkeit: 1.0000\n",
      "Bild-Index: 39  ->  True Label: 0  |  Vorhersage: 0  |  Wahrscheinlichkeit: 1.0000\n",
      "Bild-Index: 40  ->  True Label: 0  |  Vorhersage: 0  |  Wahrscheinlichkeit: 1.0000\n",
      "Bild-Index: 41  ->  True Label: 0  |  Vorhersage: 0  |  Wahrscheinlichkeit: 1.0000\n",
      "Bild-Index: 42  ->  True Label: 1  |  Vorhersage: 1  |  Wahrscheinlichkeit: 1.0000\n",
      "Bild-Index: 43  ->  True Label: 1  |  Vorhersage: 1  |  Wahrscheinlichkeit: 1.0000\n",
      "Bild-Index: 44  ->  True Label: 0  |  Vorhersage: 0  |  Wahrscheinlichkeit: 1.0000\n",
      "Bild-Index: 45  ->  True Label: 0  |  Vorhersage: 0  |  Wahrscheinlichkeit: 1.0000\n",
      "Bild-Index: 46  ->  True Label: 1  |  Vorhersage: 1  |  Wahrscheinlichkeit: 1.0000\n",
      "Bild-Index: 47  ->  True Label: 0  |  Vorhersage: 0  |  Wahrscheinlichkeit: 1.0000\n",
      "Bild-Index: 48  ->  True Label: 0  |  Vorhersage: 0  |  Wahrscheinlichkeit: 1.0000\n",
      "Bild-Index: 49  ->  True Label: 1  |  Vorhersage: 1  |  Wahrscheinlichkeit: 1.0000\n",
      "Bild-Index: 50  ->  True Label: 0  |  Vorhersage: 0  |  Wahrscheinlichkeit: 1.0000\n",
      "Bild-Index: 51  ->  True Label: 0  |  Vorhersage: 0  |  Wahrscheinlichkeit: 1.0000\n",
      "Bild-Index: 52  ->  True Label: 0  |  Vorhersage: 0  |  Wahrscheinlichkeit: 1.0000\n",
      "Bild-Index: 53  ->  True Label: 0  |  Vorhersage: 0  |  Wahrscheinlichkeit: 1.0000\n",
      "Bild-Index: 54  ->  True Label: 1  |  Vorhersage: 1  |  Wahrscheinlichkeit: 1.0000\n",
      "Bild-Index: 55  ->  True Label: 1  |  Vorhersage: 1  |  Wahrscheinlichkeit: 1.0000\n",
      "Bild-Index: 56  ->  True Label: 1  |  Vorhersage: 1  |  Wahrscheinlichkeit: 1.0000\n",
      "Bild-Index: 57  ->  True Label: 0  |  Vorhersage: 0  |  Wahrscheinlichkeit: 1.0000\n",
      "Bild-Index: 58  ->  True Label: 1  |  Vorhersage: 1  |  Wahrscheinlichkeit: 1.0000\n",
      "Bild-Index: 59  ->  True Label: 1  |  Vorhersage: 1  |  Wahrscheinlichkeit: 1.0000\n",
      "Bild-Index: 60  ->  True Label: 1  |  Vorhersage: 1  |  Wahrscheinlichkeit: 1.0000\n",
      "Bild-Index: 61  ->  True Label: 0  |  Vorhersage: 0  |  Wahrscheinlichkeit: 1.0000\n",
      "Bild-Index: 62  ->  True Label: 1  |  Vorhersage: 1  |  Wahrscheinlichkeit: 1.0000\n",
      "Bild-Index: 63  ->  True Label: 1  |  Vorhersage: 1  |  Wahrscheinlichkeit: 1.0000\n"
     ]
    }
   ],
   "source": [
    "model.eval()  # Modell in Evaluierungsmodus\n",
    "all_predictions = {}\n",
    "\n",
    "with torch.no_grad():\n",
    "    for images, labels in test_loader:\n",
    "        images, labels = images.to(device), labels.to(device)\n",
    "        outputs = model(images)\n",
    "        probabilities = torch.softmax(outputs, dim=1)  # Wahrscheinlichkeiten für jede Klasse\n",
    "        preds = probabilities.argmax(dim=1)  # Höchste Wahrscheinlichkeiten\n",
    "        \n",
    "        # Speichere Ergebnisse in einem Dictionary\n",
    "        for i, (prob, pred, label) in enumerate(zip(probabilities, preds, labels)):\n",
    "            all_predictions[i] = {\n",
    "                \"true_label\": label.item(),\n",
    "                \"predicted_label\": pred.item(),\n",
    "                \"probability\": prob[pred].item(),  # Wahrscheinlichkeit vorhergesagter Klasse\n",
    "            }\n",
    "\n",
    "for idx, result in all_predictions.items():\n",
    "    print(\n",
    "        f\"Bild-Index: {idx}  ->  \"\n",
    "        f\"True Label: {result['true_label']}  |  \"\n",
    "        f\"Vorhersage: {result['predicted_label']}  |  \"\n",
    "        f\"Wahrscheinlichkeit: {result['probability']:.4f}\"\n",
    "    )\n"
   ]
  },
  {
   "cell_type": "markdown",
   "metadata": {},
   "source": [
    "# 9. Weitere Analyse"
   ]
  },
  {
   "cell_type": "code",
   "execution_count": 21,
   "metadata": {},
   "outputs": [],
   "source": [
    "# Bild was analysiert werden soll\n",
    "\n",
    "image_path_stego = r\"C:\\Users\\Flavio\\Bachelorarbeit\\LSB\\data_LSB\\stego\\image_0.png\"\n",
    "image_path_orig = r\"C:\\Users\\Flavio\\Bachelorarbeit\\createLSB\\mnist_images\\image_0.png\"\n",
    "\n",
    "image_stego = Image.open(image_path_stego)\n",
    "image_orig = Image.open(image_path_orig)\n",
    "\n",
    "transform = transforms.Compose([\n",
    "    transforms.Grayscale(),\n",
    "    transforms.Resize((28, 28)),\n",
    "    transforms.ToTensor()\n",
    "])\n",
    "\n",
    "stego_transformed = transform(image_stego)\n",
    "orig_transformed = transform(image_orig)\n"
   ]
  },
  {
   "cell_type": "code",
   "execution_count": 26,
   "metadata": {},
   "outputs": [
    {
     "data": {
      "image/png": "[encoded data removed]",
      "text/plain": [
       "<Figure size 1500x1500 with 8 Axes>"
      ]
     },
     "metadata": {},
     "output_type": "display_data"
    }
   ],
   "source": [
    "import matplotlib.pyplot as plt\n",
    "\n",
    "# Visualisierung der Feature Maps\n",
    "def visualize_feature_maps(model, image):\n",
    "    model.eval()\n",
    "    activations = []\n",
    "    \n",
    "    # Aktivierungen speichern\n",
    "    def hook_fn(module, input, output):\n",
    "        activations.append(output)\n",
    "    \n",
    "    # Registriere Hook auf gewünschter Schicht\n",
    "    layer = model.conv1  # Schicht die ich haben will\n",
    "    hook = layer.register_forward_hook(hook_fn)\n",
    "    \n",
    "    # Leite Bild durch Modell\n",
    "    #with torch.no_grad():\n",
    "    image = stego_transformed.unsqueeze(0).to(device)  # Batch-Dimension hinzufügen\n",
    "    model(image)\n",
    "    \n",
    "    # Entferne Hook\n",
    "    hook.remove()\n",
    "    \n",
    "    # Feature Maps visualisieren\n",
    "    feature_maps = activations[0].cpu().squeeze(0)  # Batch-Dimension entfernen\n",
    "    num_maps = feature_maps.shape[0]\n",
    "    \n",
    "    fig, axes = plt.subplots(1, min(8, num_maps), figsize=(15, 15))\n",
    "    for i in range(min(8, num_maps)):  # Anzahl an Karten die angezeigt werden\n",
    "        ax = axes[i]\n",
    "        ax.imshow(feature_maps[i].detach().numpy(), cmap='viridis')\n",
    "        ax.axis('off')\n",
    "    plt.show()\n",
    "\n",
    "# Aufruf\n",
    "test_image, _ = test_dataset[0]\n",
    "visualize_feature_maps(model, test_image)\n"
   ]
  },
  {
   "cell_type": "code",
   "execution_count": 68,
   "metadata": {},
   "outputs": [
    {
     "data": {
      "image/png": "[encoded data removed]",
      "text/plain": [
       "<Figure size 1000x500 with 2 Axes>"
      ]
     },
     "metadata": {},
     "output_type": "display_data"
    }
   ],
   "source": [
    "from torchcam.methods import SmoothGradCAMpp\n",
    "from torchvision.transforms.functional import to_pil_image\n",
    "from PIL import Image\n",
    "import matplotlib.pyplot as plt\n",
    "\n",
    "# Grad-CAM-Objekt erstellen und Zielschicht anpassen (z. B. letzte Convolutional-Schicht)\n",
    "target_layer = model.resblock4.conv2\n",
    "cam_extractor = SmoothGradCAMpp(model, target_layer=target_layer)\n",
    "\n",
    "\n",
    "model.eval()  # Evaluierungsmodus\n",
    "#image, _ = test_dataset[0]  # Bild auswählen\n",
    "image = stego_transformed\n",
    "input_tensor = image.unsqueeze(0).to(device)  # Batch-Dimension hinzufügen\n",
    "\n",
    "# Vorhersage\n",
    "output = model(input_tensor)\n",
    "prediction = output.argmax(dim=1).item()\n",
    "\n",
    "# Grad-CAM-Karte berechnen\n",
    "activation_map = cam_extractor(prediction, output)\n",
    "\n",
    "# Visualisieren\n",
    "plt.figure(figsize=(10, 5))\n",
    "plt.subplot(1, 2, 1)\n",
    "plt.title(\"Originalbild\")\n",
    "plt.imshow(image.squeeze(0).cpu().numpy(), cmap='gray')\n",
    "plt.axis('off')\n",
    "\n",
    "plt.subplot(1, 2, 2)\n",
    "plt.title(\"Grad-CAM\")\n",
    "plt.imshow(image.squeeze(0).cpu().numpy(), cmap='gray', alpha=0.5)  # Originalbild\n",
    "plt.imshow(activation_map[0].squeeze().cpu().numpy(), cmap='jet', alpha=0.5)  # Grad-CAM-Karte\n",
    "plt.axis('off')\n",
    "\n",
    "plt.show()\n"
   ]
  },
  {
   "cell_type": "markdown",
   "metadata": {},
   "source": [
    "# LSB changes & detection"
   ]
  },
  {
   "cell_type": "code",
   "execution_count": 75,
   "metadata": {},
   "outputs": [],
   "source": [
    "import numpy as np\n",
    "\n",
    "def detect_lsb_changes(original, stego):\n",
    "    # Konvertiere Bilder in Arrays\n",
    "    original = np.array(original, dtype=np.uint8)\n",
    "    stego = np.array(stego, dtype=np.uint8)\n",
    "    \n",
    "    # Prüfe, ob die Dimensionen übereinstimmen\n",
    "    if original.shape != stego.shape:\n",
    "        raise ValueError(f\"Dimension mismatch: {original.shape} vs {stego.shape}\")\n",
    "    \n",
    "    # Extrahiere die LSBs\n",
    "    lsb_original = original & 1\n",
    "    lsb_stego = stego & 1\n",
    "    \n",
    "    # Vergleiche LSBs\n",
    "    changes = lsb_original != lsb_stego\n",
    "    return changes.astype(int)  # Konvertiere zu 1/0 für Visualisierung\n",
    "\n",
    "\n",
    "#print(detect_lsb_changes(image_orig, image_stego))"
   ]
  },
  {
   "cell_type": "code",
   "execution_count": null,
   "metadata": {},
   "outputs": [
    {
     "ename": "TypeError",
     "evalue": "can't convert cuda:0 device type tensor to numpy. Use Tensor.cpu() to copy the tensor to host memory first.",
     "output_type": "error",
     "traceback": [
      "\u001b[1;31m---------------------------------------------------------------------------\u001b[0m",
      "\u001b[1;31mTypeError\u001b[0m                                 Traceback (most recent call last)",
      "Cell \u001b[1;32mIn[90], line 42\u001b[0m\n\u001b[0;32m     37\u001b[0m     plt\u001b[38;5;241m.\u001b[39maxis(\u001b[38;5;124m'\u001b[39m\u001b[38;5;124moff\u001b[39m\u001b[38;5;124m'\u001b[39m)\n\u001b[0;32m     39\u001b[0m     plt\u001b[38;5;241m.\u001b[39mshow()\n\u001b[1;32m---> 42\u001b[0m \u001b[43moverlay_heatmap\u001b[49m\u001b[43m(\u001b[49m\u001b[43mimage_orig\u001b[49m\u001b[43m,\u001b[49m\u001b[43m \u001b[49m\u001b[43mdetect_lsb_changes\u001b[49m\u001b[43m(\u001b[49m\u001b[43mimage_orig\u001b[49m\u001b[43m,\u001b[49m\u001b[43m \u001b[49m\u001b[43mimage_stego\u001b[49m\u001b[43m)\u001b[49m\u001b[43m,\u001b[49m\u001b[43m \u001b[49m\u001b[43mactivation_map\u001b[49m\u001b[43m)\u001b[49m\n",
      "Cell \u001b[1;32mIn[90], line 25\u001b[0m, in \u001b[0;36moverlay_heatmap\u001b[1;34m(image, lsb_changes, grad_cam_map)\u001b[0m\n\u001b[0;32m     23\u001b[0m plt\u001b[38;5;241m.\u001b[39mtitle(\u001b[38;5;124m\"\u001b[39m\u001b[38;5;124mGrad-CAM Overlay\u001b[39m\u001b[38;5;124m\"\u001b[39m)\n\u001b[0;32m     24\u001b[0m plt\u001b[38;5;241m.\u001b[39mimshow(image, cmap\u001b[38;5;241m=\u001b[39m\u001b[38;5;124m'\u001b[39m\u001b[38;5;124mgray\u001b[39m\u001b[38;5;124m'\u001b[39m)\n\u001b[1;32m---> 25\u001b[0m \u001b[43mplt\u001b[49m\u001b[38;5;241;43m.\u001b[39;49m\u001b[43mimshow\u001b[49m\u001b[43m(\u001b[49m\u001b[43mgrad_cam_map\u001b[49m\u001b[43m,\u001b[49m\u001b[43m \u001b[49m\u001b[43mcmap\u001b[49m\u001b[38;5;241;43m=\u001b[39;49m\u001b[38;5;124;43m'\u001b[39;49m\u001b[38;5;124;43mjet\u001b[39;49m\u001b[38;5;124;43m'\u001b[39;49m\u001b[43m,\u001b[49m\u001b[43m \u001b[49m\u001b[43malpha\u001b[49m\u001b[38;5;241;43m=\u001b[39;49m\u001b[38;5;241;43m0.5\u001b[39;49m\u001b[43m)\u001b[49m\n\u001b[0;32m     27\u001b[0m plt\u001b[38;5;241m.\u001b[39mfigure(figsize\u001b[38;5;241m=\u001b[39m(\u001b[38;5;241m10\u001b[39m, \u001b[38;5;241m5\u001b[39m))\n\u001b[0;32m     28\u001b[0m plt\u001b[38;5;241m.\u001b[39msubplot(\u001b[38;5;241m1\u001b[39m, \u001b[38;5;241m2\u001b[39m, \u001b[38;5;241m1\u001b[39m)\n",
      "File \u001b[1;32mc:\\Users\\Flavio\\Bachelorarbeit\\venv\\Lib\\site-packages\\matplotlib\\pyplot.py:3562\u001b[0m, in \u001b[0;36mimshow\u001b[1;34m(X, cmap, norm, aspect, interpolation, alpha, vmin, vmax, origin, extent, interpolation_stage, filternorm, filterrad, resample, url, data, **kwargs)\u001b[0m\n\u001b[0;32m   3541\u001b[0m \u001b[38;5;129m@_copy_docstring_and_deprecators\u001b[39m(Axes\u001b[38;5;241m.\u001b[39mimshow)\n\u001b[0;32m   3542\u001b[0m \u001b[38;5;28;01mdef\u001b[39;00m \u001b[38;5;21mimshow\u001b[39m(\n\u001b[0;32m   3543\u001b[0m     X: ArrayLike \u001b[38;5;241m|\u001b[39m PIL\u001b[38;5;241m.\u001b[39mImage\u001b[38;5;241m.\u001b[39mImage,\n\u001b[1;32m   (...)\u001b[0m\n\u001b[0;32m   3560\u001b[0m     \u001b[38;5;241m*\u001b[39m\u001b[38;5;241m*\u001b[39mkwargs,\n\u001b[0;32m   3561\u001b[0m ) \u001b[38;5;241m-\u001b[39m\u001b[38;5;241m>\u001b[39m AxesImage:\n\u001b[1;32m-> 3562\u001b[0m     __ret \u001b[38;5;241m=\u001b[39m \u001b[43mgca\u001b[49m\u001b[43m(\u001b[49m\u001b[43m)\u001b[49m\u001b[38;5;241;43m.\u001b[39;49m\u001b[43mimshow\u001b[49m\u001b[43m(\u001b[49m\n\u001b[0;32m   3563\u001b[0m \u001b[43m        \u001b[49m\u001b[43mX\u001b[49m\u001b[43m,\u001b[49m\n\u001b[0;32m   3564\u001b[0m \u001b[43m        \u001b[49m\u001b[43mcmap\u001b[49m\u001b[38;5;241;43m=\u001b[39;49m\u001b[43mcmap\u001b[49m\u001b[43m,\u001b[49m\n\u001b[0;32m   3565\u001b[0m \u001b[43m        \u001b[49m\u001b[43mnorm\u001b[49m\u001b[38;5;241;43m=\u001b[39;49m\u001b[43mnorm\u001b[49m\u001b[43m,\u001b[49m\n\u001b[0;32m   3566\u001b[0m \u001b[43m        \u001b[49m\u001b[43maspect\u001b[49m\u001b[38;5;241;43m=\u001b[39;49m\u001b[43maspect\u001b[49m\u001b[43m,\u001b[49m\n\u001b[0;32m   3567\u001b[0m \u001b[43m        \u001b[49m\u001b[43minterpolation\u001b[49m\u001b[38;5;241;43m=\u001b[39;49m\u001b[43minterpolation\u001b[49m\u001b[43m,\u001b[49m\n\u001b[0;32m   3568\u001b[0m \u001b[43m        \u001b[49m\u001b[43malpha\u001b[49m\u001b[38;5;241;43m=\u001b[39;49m\u001b[43malpha\u001b[49m\u001b[43m,\u001b[49m\n\u001b[0;32m   3569\u001b[0m \u001b[43m        \u001b[49m\u001b[43mvmin\u001b[49m\u001b[38;5;241;43m=\u001b[39;49m\u001b[43mvmin\u001b[49m\u001b[43m,\u001b[49m\n\u001b[0;32m   3570\u001b[0m \u001b[43m        \u001b[49m\u001b[43mvmax\u001b[49m\u001b[38;5;241;43m=\u001b[39;49m\u001b[43mvmax\u001b[49m\u001b[43m,\u001b[49m\n\u001b[0;32m   3571\u001b[0m \u001b[43m        \u001b[49m\u001b[43morigin\u001b[49m\u001b[38;5;241;43m=\u001b[39;49m\u001b[43morigin\u001b[49m\u001b[43m,\u001b[49m\n\u001b[0;32m   3572\u001b[0m \u001b[43m        \u001b[49m\u001b[43mextent\u001b[49m\u001b[38;5;241;43m=\u001b[39;49m\u001b[43mextent\u001b[49m\u001b[43m,\u001b[49m\n\u001b[0;32m   3573\u001b[0m \u001b[43m        \u001b[49m\u001b[43minterpolation_stage\u001b[49m\u001b[38;5;241;43m=\u001b[39;49m\u001b[43minterpolation_stage\u001b[49m\u001b[43m,\u001b[49m\n\u001b[0;32m   3574\u001b[0m \u001b[43m        \u001b[49m\u001b[43mfilternorm\u001b[49m\u001b[38;5;241;43m=\u001b[39;49m\u001b[43mfilternorm\u001b[49m\u001b[43m,\u001b[49m\n\u001b[0;32m   3575\u001b[0m \u001b[43m        \u001b[49m\u001b[43mfilterrad\u001b[49m\u001b[38;5;241;43m=\u001b[39;49m\u001b[43mfilterrad\u001b[49m\u001b[43m,\u001b[49m\n\u001b[0;32m   3576\u001b[0m \u001b[43m        \u001b[49m\u001b[43mresample\u001b[49m\u001b[38;5;241;43m=\u001b[39;49m\u001b[43mresample\u001b[49m\u001b[43m,\u001b[49m\n\u001b[0;32m   3577\u001b[0m \u001b[43m        \u001b[49m\u001b[43murl\u001b[49m\u001b[38;5;241;43m=\u001b[39;49m\u001b[43murl\u001b[49m\u001b[43m,\u001b[49m\n\u001b[0;32m   3578\u001b[0m \u001b[43m        \u001b[49m\u001b[38;5;241;43m*\u001b[39;49m\u001b[38;5;241;43m*\u001b[39;49m\u001b[43m(\u001b[49m\u001b[43m{\u001b[49m\u001b[38;5;124;43m\"\u001b[39;49m\u001b[38;5;124;43mdata\u001b[39;49m\u001b[38;5;124;43m\"\u001b[39;49m\u001b[43m:\u001b[49m\u001b[43m \u001b[49m\u001b[43mdata\u001b[49m\u001b[43m}\u001b[49m\u001b[43m \u001b[49m\u001b[38;5;28;43;01mif\u001b[39;49;00m\u001b[43m \u001b[49m\u001b[43mdata\u001b[49m\u001b[43m \u001b[49m\u001b[38;5;129;43;01mis\u001b[39;49;00m\u001b[43m \u001b[49m\u001b[38;5;129;43;01mnot\u001b[39;49;00m\u001b[43m \u001b[49m\u001b[38;5;28;43;01mNone\u001b[39;49;00m\u001b[43m \u001b[49m\u001b[38;5;28;43;01melse\u001b[39;49;00m\u001b[43m \u001b[49m\u001b[43m{\u001b[49m\u001b[43m}\u001b[49m\u001b[43m)\u001b[49m\u001b[43m,\u001b[49m\n\u001b[0;32m   3579\u001b[0m \u001b[43m        \u001b[49m\u001b[38;5;241;43m*\u001b[39;49m\u001b[38;5;241;43m*\u001b[39;49m\u001b[43mkwargs\u001b[49m\u001b[43m,\u001b[49m\n\u001b[0;32m   3580\u001b[0m \u001b[43m    \u001b[49m\u001b[43m)\u001b[49m\n\u001b[0;32m   3581\u001b[0m     sci(__ret)\n\u001b[0;32m   3582\u001b[0m     \u001b[38;5;28;01mreturn\u001b[39;00m __ret\n",
      "File \u001b[1;32mc:\\Users\\Flavio\\Bachelorarbeit\\venv\\Lib\\site-packages\\matplotlib\\__init__.py:1473\u001b[0m, in \u001b[0;36m_preprocess_data.<locals>.inner\u001b[1;34m(ax, data, *args, **kwargs)\u001b[0m\n\u001b[0;32m   1470\u001b[0m \u001b[38;5;129m@functools\u001b[39m\u001b[38;5;241m.\u001b[39mwraps(func)\n\u001b[0;32m   1471\u001b[0m \u001b[38;5;28;01mdef\u001b[39;00m \u001b[38;5;21minner\u001b[39m(ax, \u001b[38;5;241m*\u001b[39margs, data\u001b[38;5;241m=\u001b[39m\u001b[38;5;28;01mNone\u001b[39;00m, \u001b[38;5;241m*\u001b[39m\u001b[38;5;241m*\u001b[39mkwargs):\n\u001b[0;32m   1472\u001b[0m     \u001b[38;5;28;01mif\u001b[39;00m data \u001b[38;5;129;01mis\u001b[39;00m \u001b[38;5;28;01mNone\u001b[39;00m:\n\u001b[1;32m-> 1473\u001b[0m         \u001b[38;5;28;01mreturn\u001b[39;00m \u001b[43mfunc\u001b[49m\u001b[43m(\u001b[49m\n\u001b[0;32m   1474\u001b[0m \u001b[43m            \u001b[49m\u001b[43max\u001b[49m\u001b[43m,\u001b[49m\n\u001b[0;32m   1475\u001b[0m \u001b[43m            \u001b[49m\u001b[38;5;241;43m*\u001b[39;49m\u001b[38;5;28;43mmap\u001b[39;49m\u001b[43m(\u001b[49m\u001b[43msanitize_sequence\u001b[49m\u001b[43m,\u001b[49m\u001b[43m \u001b[49m\u001b[43margs\u001b[49m\u001b[43m)\u001b[49m\u001b[43m,\u001b[49m\n\u001b[0;32m   1476\u001b[0m \u001b[43m            \u001b[49m\u001b[38;5;241;43m*\u001b[39;49m\u001b[38;5;241;43m*\u001b[39;49m\u001b[43m{\u001b[49m\u001b[43mk\u001b[49m\u001b[43m:\u001b[49m\u001b[43m \u001b[49m\u001b[43msanitize_sequence\u001b[49m\u001b[43m(\u001b[49m\u001b[43mv\u001b[49m\u001b[43m)\u001b[49m\u001b[43m \u001b[49m\u001b[38;5;28;43;01mfor\u001b[39;49;00m\u001b[43m \u001b[49m\u001b[43mk\u001b[49m\u001b[43m,\u001b[49m\u001b[43m \u001b[49m\u001b[43mv\u001b[49m\u001b[43m \u001b[49m\u001b[38;5;129;43;01min\u001b[39;49;00m\u001b[43m \u001b[49m\u001b[43mkwargs\u001b[49m\u001b[38;5;241;43m.\u001b[39;49m\u001b[43mitems\u001b[49m\u001b[43m(\u001b[49m\u001b[43m)\u001b[49m\u001b[43m}\u001b[49m\u001b[43m)\u001b[49m\n\u001b[0;32m   1478\u001b[0m     bound \u001b[38;5;241m=\u001b[39m new_sig\u001b[38;5;241m.\u001b[39mbind(ax, \u001b[38;5;241m*\u001b[39margs, \u001b[38;5;241m*\u001b[39m\u001b[38;5;241m*\u001b[39mkwargs)\n\u001b[0;32m   1479\u001b[0m     auto_label \u001b[38;5;241m=\u001b[39m (bound\u001b[38;5;241m.\u001b[39marguments\u001b[38;5;241m.\u001b[39mget(label_namer)\n\u001b[0;32m   1480\u001b[0m                   \u001b[38;5;129;01mor\u001b[39;00m bound\u001b[38;5;241m.\u001b[39mkwargs\u001b[38;5;241m.\u001b[39mget(label_namer))\n",
      "File \u001b[1;32mc:\\Users\\Flavio\\Bachelorarbeit\\venv\\Lib\\site-packages\\matplotlib\\axes\\_axes.py:5895\u001b[0m, in \u001b[0;36mAxes.imshow\u001b[1;34m(self, X, cmap, norm, aspect, interpolation, alpha, vmin, vmax, origin, extent, interpolation_stage, filternorm, filterrad, resample, url, **kwargs)\u001b[0m\n\u001b[0;32m   5892\u001b[0m \u001b[38;5;28;01mif\u001b[39;00m aspect \u001b[38;5;129;01mis\u001b[39;00m \u001b[38;5;129;01mnot\u001b[39;00m \u001b[38;5;28;01mNone\u001b[39;00m:\n\u001b[0;32m   5893\u001b[0m     \u001b[38;5;28mself\u001b[39m\u001b[38;5;241m.\u001b[39mset_aspect(aspect)\n\u001b[1;32m-> 5895\u001b[0m \u001b[43mim\u001b[49m\u001b[38;5;241;43m.\u001b[39;49m\u001b[43mset_data\u001b[49m\u001b[43m(\u001b[49m\u001b[43mX\u001b[49m\u001b[43m)\u001b[49m\n\u001b[0;32m   5896\u001b[0m im\u001b[38;5;241m.\u001b[39mset_alpha(alpha)\n\u001b[0;32m   5897\u001b[0m \u001b[38;5;28;01mif\u001b[39;00m im\u001b[38;5;241m.\u001b[39mget_clip_path() \u001b[38;5;129;01mis\u001b[39;00m \u001b[38;5;28;01mNone\u001b[39;00m:\n\u001b[0;32m   5898\u001b[0m     \u001b[38;5;66;03m# image does not already have clipping set, clip to Axes patch\u001b[39;00m\n",
      "File \u001b[1;32mc:\\Users\\Flavio\\Bachelorarbeit\\venv\\Lib\\site-packages\\matplotlib\\image.py:729\u001b[0m, in \u001b[0;36m_ImageBase.set_data\u001b[1;34m(self, A)\u001b[0m\n\u001b[0;32m    727\u001b[0m \u001b[38;5;28;01mif\u001b[39;00m \u001b[38;5;28misinstance\u001b[39m(A, PIL\u001b[38;5;241m.\u001b[39mImage\u001b[38;5;241m.\u001b[39mImage):\n\u001b[0;32m    728\u001b[0m     A \u001b[38;5;241m=\u001b[39m pil_to_array(A)  \u001b[38;5;66;03m# Needed e.g. to apply png palette.\u001b[39;00m\n\u001b[1;32m--> 729\u001b[0m \u001b[38;5;28mself\u001b[39m\u001b[38;5;241m.\u001b[39m_A \u001b[38;5;241m=\u001b[39m \u001b[38;5;28;43mself\u001b[39;49m\u001b[38;5;241;43m.\u001b[39;49m\u001b[43m_normalize_image_array\u001b[49m\u001b[43m(\u001b[49m\u001b[43mA\u001b[49m\u001b[43m)\u001b[49m\n\u001b[0;32m    730\u001b[0m \u001b[38;5;28mself\u001b[39m\u001b[38;5;241m.\u001b[39m_imcache \u001b[38;5;241m=\u001b[39m \u001b[38;5;28;01mNone\u001b[39;00m\n\u001b[0;32m    731\u001b[0m \u001b[38;5;28mself\u001b[39m\u001b[38;5;241m.\u001b[39mstale \u001b[38;5;241m=\u001b[39m \u001b[38;5;28;01mTrue\u001b[39;00m\n",
      "File \u001b[1;32mc:\\Users\\Flavio\\Bachelorarbeit\\venv\\Lib\\site-packages\\matplotlib\\image.py:690\u001b[0m, in \u001b[0;36m_ImageBase._normalize_image_array\u001b[1;34m(A)\u001b[0m\n\u001b[0;32m    684\u001b[0m \u001b[38;5;129m@staticmethod\u001b[39m\n\u001b[0;32m    685\u001b[0m \u001b[38;5;28;01mdef\u001b[39;00m \u001b[38;5;21m_normalize_image_array\u001b[39m(A):\n\u001b[0;32m    686\u001b[0m \u001b[38;5;250m    \u001b[39m\u001b[38;5;124;03m\"\"\"\u001b[39;00m\n\u001b[0;32m    687\u001b[0m \u001b[38;5;124;03m    Check validity of image-like input *A* and normalize it to a format suitable for\u001b[39;00m\n\u001b[0;32m    688\u001b[0m \u001b[38;5;124;03m    Image subclasses.\u001b[39;00m\n\u001b[0;32m    689\u001b[0m \u001b[38;5;124;03m    \"\"\"\u001b[39;00m\n\u001b[1;32m--> 690\u001b[0m     A \u001b[38;5;241m=\u001b[39m \u001b[43mcbook\u001b[49m\u001b[38;5;241;43m.\u001b[39;49m\u001b[43msafe_masked_invalid\u001b[49m\u001b[43m(\u001b[49m\u001b[43mA\u001b[49m\u001b[43m,\u001b[49m\u001b[43m \u001b[49m\u001b[43mcopy\u001b[49m\u001b[38;5;241;43m=\u001b[39;49m\u001b[38;5;28;43;01mTrue\u001b[39;49;00m\u001b[43m)\u001b[49m\n\u001b[0;32m    691\u001b[0m     \u001b[38;5;28;01mif\u001b[39;00m A\u001b[38;5;241m.\u001b[39mdtype \u001b[38;5;241m!=\u001b[39m np\u001b[38;5;241m.\u001b[39muint8 \u001b[38;5;129;01mand\u001b[39;00m \u001b[38;5;129;01mnot\u001b[39;00m np\u001b[38;5;241m.\u001b[39mcan_cast(A\u001b[38;5;241m.\u001b[39mdtype, \u001b[38;5;28mfloat\u001b[39m, \u001b[38;5;124m\"\u001b[39m\u001b[38;5;124msame_kind\u001b[39m\u001b[38;5;124m\"\u001b[39m):\n\u001b[0;32m    692\u001b[0m         \u001b[38;5;28;01mraise\u001b[39;00m \u001b[38;5;167;01mTypeError\u001b[39;00m(\u001b[38;5;124mf\u001b[39m\u001b[38;5;124m\"\u001b[39m\u001b[38;5;124mImage data of dtype \u001b[39m\u001b[38;5;132;01m{\u001b[39;00mA\u001b[38;5;241m.\u001b[39mdtype\u001b[38;5;132;01m}\u001b[39;00m\u001b[38;5;124m cannot be \u001b[39m\u001b[38;5;124m\"\u001b[39m\n\u001b[0;32m    693\u001b[0m                         \u001b[38;5;124mf\u001b[39m\u001b[38;5;124m\"\u001b[39m\u001b[38;5;124mconverted to float\u001b[39m\u001b[38;5;124m\"\u001b[39m)\n",
      "File \u001b[1;32mc:\\Users\\Flavio\\Bachelorarbeit\\venv\\Lib\\site-packages\\matplotlib\\cbook.py:733\u001b[0m, in \u001b[0;36msafe_masked_invalid\u001b[1;34m(x, copy)\u001b[0m\n\u001b[0;32m    732\u001b[0m \u001b[38;5;28;01mdef\u001b[39;00m \u001b[38;5;21msafe_masked_invalid\u001b[39m(x, copy\u001b[38;5;241m=\u001b[39m\u001b[38;5;28;01mFalse\u001b[39;00m):\n\u001b[1;32m--> 733\u001b[0m     x \u001b[38;5;241m=\u001b[39m np\u001b[38;5;241m.\u001b[39marray(x, subok\u001b[38;5;241m=\u001b[39m\u001b[38;5;28;01mTrue\u001b[39;00m, copy\u001b[38;5;241m=\u001b[39mcopy)\n\u001b[0;32m    734\u001b[0m     \u001b[38;5;28;01mif\u001b[39;00m \u001b[38;5;129;01mnot\u001b[39;00m x\u001b[38;5;241m.\u001b[39mdtype\u001b[38;5;241m.\u001b[39misnative:\n\u001b[0;32m    735\u001b[0m         \u001b[38;5;66;03m# If we have already made a copy, do the byteswap in place, else make a\u001b[39;00m\n\u001b[0;32m    736\u001b[0m         \u001b[38;5;66;03m# copy with the byte order swapped.\u001b[39;00m\n\u001b[0;32m    737\u001b[0m         \u001b[38;5;66;03m# Swap to native order.\u001b[39;00m\n\u001b[0;32m    738\u001b[0m         x \u001b[38;5;241m=\u001b[39m x\u001b[38;5;241m.\u001b[39mbyteswap(inplace\u001b[38;5;241m=\u001b[39mcopy)\u001b[38;5;241m.\u001b[39mview(x\u001b[38;5;241m.\u001b[39mdtype\u001b[38;5;241m.\u001b[39mnewbyteorder(\u001b[38;5;124m'\u001b[39m\u001b[38;5;124mN\u001b[39m\u001b[38;5;124m'\u001b[39m))\n",
      "File \u001b[1;32mc:\\Users\\Flavio\\Bachelorarbeit\\venv\\Lib\\site-packages\\torch\\_tensor.py:1149\u001b[0m, in \u001b[0;36mTensor.__array__\u001b[1;34m(self, dtype)\u001b[0m\n\u001b[0;32m   1147\u001b[0m     \u001b[38;5;28;01mreturn\u001b[39;00m handle_torch_function(Tensor\u001b[38;5;241m.\u001b[39m__array__, (\u001b[38;5;28mself\u001b[39m,), \u001b[38;5;28mself\u001b[39m, dtype\u001b[38;5;241m=\u001b[39mdtype)\n\u001b[0;32m   1148\u001b[0m \u001b[38;5;28;01mif\u001b[39;00m dtype \u001b[38;5;129;01mis\u001b[39;00m \u001b[38;5;28;01mNone\u001b[39;00m:\n\u001b[1;32m-> 1149\u001b[0m     \u001b[38;5;28;01mreturn\u001b[39;00m \u001b[38;5;28;43mself\u001b[39;49m\u001b[38;5;241;43m.\u001b[39;49m\u001b[43mnumpy\u001b[49m\u001b[43m(\u001b[49m\u001b[43m)\u001b[49m\n\u001b[0;32m   1150\u001b[0m \u001b[38;5;28;01melse\u001b[39;00m:\n\u001b[0;32m   1151\u001b[0m     \u001b[38;5;28;01mreturn\u001b[39;00m \u001b[38;5;28mself\u001b[39m\u001b[38;5;241m.\u001b[39mnumpy()\u001b[38;5;241m.\u001b[39mastype(dtype, copy\u001b[38;5;241m=\u001b[39m\u001b[38;5;28;01mFalse\u001b[39;00m)\n",
      "\u001b[1;31mTypeError\u001b[0m: can't convert cuda:0 device type tensor to numpy. Use Tensor.cpu() to copy the tensor to host memory first."
     ]
    },
    {
     "data": {
      "image/png": "[encoded data removed]",
      "text/plain": [
       "<Figure size 1000x500 with 3 Axes>"
      ]
     },
     "metadata": {},
     "output_type": "display_data"
    }
   ],
   "source": [
    "def overlay_heatmap(image, lsb_changes, grad_cam_map):\n",
    "\n",
    "\n",
    "    # Grad-CAM Map verarbeiten: GPU → CPU → NumPy\n",
    "    if isinstance(grad_cam_map, torch.Tensor):\n",
    "        grad_cam_map = grad_cam_map.squeeze()  # Entfernt unnötige Dimensionen\n",
    "        grad_cam_map = grad_cam_map.cpu().numpy()  # Verschiebe zur CPU und konvertiere zu NumPy\n",
    "\n",
    "        # if else mit namenänderungen\n",
    "        # debugging einfach nochmal\n",
    "        # type und dimesions\n",
    "\n",
    "    plt.figure(figsize=(10, 5))\n",
    "\n",
    "    # Originalbild\n",
    "    plt.subplot(1, 3, 1)\n",
    "    plt.title(\"Original Image\")\n",
    "    plt.imshow(image, cmap='gray')\n",
    "\n",
    "    # LSB-Änderungen\n",
    "    plt.subplot(1, 3, 2)\n",
    "    plt.title(\"LSB Changes\")\n",
    "    plt.imshow(lsb_changes, cmap='hot')\n",
    "\n",
    "    # Grad-CAM Overlay\n",
    "    plt.subplot(1, 3, 3)\n",
    "    plt.title(\"Grad-CAM Overlay\")\n",
    "    plt.imshow(image, cmap='gray')\n",
    "    plt.imshow(grad_cam_map, cmap='jet', alpha=0.5)\n",
    "\n",
    "    plt.show()\n",
    "\n",
    "\n",
    "overlay_heatmap(image_orig, detect_lsb_changes(image_orig, image_stego), activation_map)\n"
   ]
  },
  {
   "cell_type": "markdown",
   "metadata": {},
   "source": [
    "## 10. To Do`s"
   ]
  },
  {
   "cell_type": "markdown",
   "metadata": {},
   "source": [
    "Sachen noch zum Evaluieren des Models:\n",
    "- versch. Highpass Filter verwenden, gucken was passiert (ist jetziger Optimal?)\n",
    "- nachsehen inwiefern der die entscheidenen Pixel gehighlighted werden (mit Grad-Cam Pixel Highlights ansehen und dann schauen welche Pixel am meisten verändert wurden zum original Bild)\n",
    "- andere Stego implemetierungen nutzen/ sehen ob das auch erkennt wird S- Uniward oder WOW zb\n",
    "- Model struktur evtl. nochmals anpassen => wie reagiert es darauf => rausfinden was jetzt der springende Punkt war\n",
    "- model auf härtere Daten testen => bis auf wie viel byte embeddete Daten kann ich runter gehen??\n",
    "\n",
    "\n",
    "Ansonsten:\n",
    "- implementieren einer SVM die das Probolem lösen kann (Im Titel steht comparative Study) => wäre interessant zu sehen wie andere RL Algorithmen performen => starkes Preprocessing durch X2 usw. nötig\n",
    "- Schreiben anfangen!! Dann sehen wie viel Zeit übrig ist für weitere Untersuchungen\n",
    "- Falls ich nochmal komplexere Daten verwende denken an: Daten-Augmentierung, Hyperparametertuning, Curriculum Training, Early Stopping, Learning-Rate-Scheduler, Cross-Validation \n",
    "\n"
   ]
  }
 ],
 "metadata": {
  "kernelspec": {
   "display_name": "venv",
   "language": "python",
   "name": "python3"
  },
  "language_info": {
   "codemirror_mode": {
    "name": "ipython",
    "version": 3
   },
   "file_extension": ".py",
   "mimetype": "text/x-python",
   "name": "python",
   "nbconvert_exporter": "python",
   "pygments_lexer": "ipython3",
   "version": "3.11.9"
  }
 },
 "nbformat": 4,
 "nbformat_minor": 2
}
