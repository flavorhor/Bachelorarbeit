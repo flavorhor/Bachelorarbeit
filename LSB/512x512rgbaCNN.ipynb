{
 "cells": [
  {
   "cell_type": "markdown",
   "metadata": {},
   "source": [
    "# 1. Imports"
   ]
  },
  {
   "cell_type": "code",
   "execution_count": 4,
   "metadata": {},
   "outputs": [],
   "source": [
    "import os\n",
    "import torch\n",
    "import torch.nn as nn\n",
    "import torch.nn.functional as F\n",
    "from torch.utils.data import DataLoader, Dataset\n",
    "from torchvision import transforms, datasets\n",
    "from torchvision.transforms import ToTensor\n",
    "import random\n",
    "import torch.optim as optim\n",
    "from tqdm import tqdm\n",
    "from PIL import Image\n",
    "import numpy as np\n"
   ]
  },
  {
   "cell_type": "markdown",
   "metadata": {},
   "source": [
    "# 2. Dataset und DataLoader"
   ]
  },
  {
   "cell_type": "code",
   "execution_count": 5,
   "metadata": {},
   "outputs": [],
   "source": [
    "# Pfad zum Datenordner (wo 'clean' und 'stego' liegen)\n",
    "data_dir_train = r\"C:\\Users\\Flavio\\Bachelorarbeit\\LSB\\data_old\\train\"\n",
    "data_dir_test = r\"C:\\Users\\Flavio\\Bachelorarbeit\\LSB\\data_old\\test\"\n",
    "data_dir_val = r\"C:\\Users\\Flavio\\Bachelorarbeit\\LSB\\data_old\\val\"\n",
    "\n",
    "image_paths_train = []\n",
    "image_paths_test = []\n",
    "image_paths_val = []\n",
    "labels_train = []\n",
    "labels_test = []\n",
    "labels_val = []\n",
    "\n",
    "images_train = []\n",
    "images_test = []\n",
    "images_val = []\n",
    "\n",
    "for label, subdir in enumerate(['clean', 'stego']):\n",
    "            path = os.path.join(data_dir_train, subdir)\n",
    "            for img_name in os.listdir(path):\n",
    "                img_path = os.path.join(path, img_name)\n",
    "                image_paths_train.append(img_path)\n",
    "                labels_train.append(label)\n",
    "\n",
    "for label, subdir in enumerate(['clean', 'stego']):\n",
    "            path = os.path.join(data_dir_test, subdir)\n",
    "            for img_name in os.listdir(path):\n",
    "                img_path = os.path.join(path, img_name)\n",
    "                image_paths_test.append(img_path)\n",
    "                labels_test.append(label)\n",
    "\n",
    "for label, subdir in enumerate(['clean', 'stego']):\n",
    "            path = os.path.join(data_dir_val, subdir)\n",
    "            for img_name in os.listdir(path):\n",
    "                img_path = os.path.join(path, img_name)\n",
    "                image_paths_val.append(img_path)\n",
    "                labels_val.append(label)\n",
    "\n",
    "\n",
    "def load_images(image_paths):\n",
    "    images = []\n",
    "    for path in image_paths:\n",
    "        img = Image.open(path).convert(\"RGBA\")  # RGBA-Bilder laden\n",
    "        images.append(np.array(img))  # In ein numpy-Array umwandeln\n",
    "    return np.array(images)\n",
    "\n",
    "images_test = load_images(image_paths_test)\n",
    "images_train = load_images(image_paths_train)\n",
    "images_val = load_images(image_paths_val)\n",
    "\n",
    "class PatchDataset(Dataset):\n",
    "    def __init__(self, images, labels, patch_size=128):\n",
    "        self.images = images\n",
    "        self.labels = labels\n",
    "        self.patch_size = patch_size\n",
    "\n",
    "    def __len__(self):\n",
    "        return len(self.images)\n",
    "\n",
    "    def __getitem__(self, idx):\n",
    "        image = self.images[idx]\n",
    "        label = self.labels[idx]\n",
    "\n",
    "        # Zufälligen Patch extrahieren\n",
    "        h, w, _ = image.shape\n",
    "        top = random.randint(0, h - self.patch_size)\n",
    "        left = random.randint(0, w - self.patch_size)\n",
    "        patch = image[top:top + self.patch_size, left:left + self.patch_size]\n",
    "\n",
    "        # ToTensor transformieren\n",
    "        patch = ToTensor()(patch)\n",
    "        return patch, label\n",
    "    \n"
   ]
  },
  {
   "cell_type": "markdown",
   "metadata": {},
   "source": [
    "# 3. Train-/Val-/Test-Split"
   ]
  },
  {
   "cell_type": "code",
   "execution_count": 6,
   "metadata": {},
   "outputs": [
    {
     "name": "stdout",
     "output_type": "stream",
     "text": [
      "Train: 16000 Val: 8000 Test: 8000\n"
     ]
    }
   ],
   "source": [
    "\n",
    "patch_dataset_train = PatchDataset(images_train, labels_train)\n",
    "patch_dataset_test = PatchDataset(images_test, labels_test)\n",
    "patch_dataset_val = PatchDataset(images_val, labels_val)\n",
    "\n",
    "# dataloader = DataLoader(patch_dataset, batch_size=16, shuffle=True)\n",
    "train_loader = DataLoader(patch_dataset_train, batch_size=16, shuffle=True)\n",
    "val_loader   = DataLoader(patch_dataset_test, batch_size=16, shuffle=False)\n",
    "test_loader  = DataLoader(patch_dataset_val, batch_size=16, shuffle=False)\n",
    "\n",
    "print(\"Train:\", len(patch_dataset_train), \"Val:\", len(patch_dataset_val), \"Test:\", len(patch_dataset_test))\n"
   ]
  },
  {
   "cell_type": "markdown",
   "metadata": {},
   "source": [
    "# 4. High-Pass-Filter-Layer (optional)"
   ]
  },
  {
   "cell_type": "code",
   "execution_count": 43,
   "metadata": {},
   "outputs": [],
   "source": [
    "class HighpassConv(nn.Module):\n",
    "    def __init__(self):\n",
    "        super(HighpassConv, self).__init__()\n",
    "        # Laplacian Filter (3x3); \n",
    "        kernel = torch.tensor([[0, -1, 0],\n",
    "                               [-1, 4, -1],\n",
    "                               [0, -1, 0]], dtype=torch.float32)\n",
    "        # 1x1-Conv-Layer mit diesem Filter als festen Filter\n",
    "        self.conv = nn.Conv2d(1, 1, kernel_size=3, padding=1, bias=False)\n",
    "        # Gewichte setzen und einfrieren (man könnte auch feintuning erlauben)\n",
    "        self.conv.weight.data = kernel.unsqueeze(0).unsqueeze(0)\n",
    "        self.conv.weight.requires_grad = False  # hier true für feintuning\n",
    "\n",
    "    def forward(self, x):\n",
    "        return self.conv(x)"
   ]
  },
  {
   "cell_type": "markdown",
   "metadata": {},
   "source": [
    "# 5. Residual Block (vereinfacht)"
   ]
  },
  {
   "cell_type": "code",
   "execution_count": 44,
   "metadata": {},
   "outputs": [],
   "source": [
    "class ResidualBlock(nn.Module):\n",
    "    def __init__(self, channels, dilation=1, use_batchnorm=True):\n",
    "        super(ResidualBlock, self).__init__()\n",
    "        padding = dilation  # räumliche Auflösung erhalten\n",
    "        self.conv1 = nn.Conv2d(channels, channels, kernel_size=3, padding=padding, dilation=dilation)\n",
    "        self.bn1 = nn.BatchNorm2d(channels) if use_batchnorm else nn.Identity()\n",
    "        self.conv2 = nn.Conv2d(channels, channels, kernel_size=3, padding=padding, dilation=dilation)\n",
    "        self.bn2 = nn.BatchNorm2d(channels) if use_batchnorm else nn.Identity()\n",
    "        self.relu = nn.ReLU(inplace=True)\n",
    "\n",
    "    def forward(self, x):\n",
    "        residual = x\n",
    "        out = self.relu(self.bn1(self.conv1(x)))\n",
    "        out = self.bn2(self.conv2(out))\n",
    "        out += residual\n",
    "        return self.relu(out)"
   ]
  },
  {
   "cell_type": "markdown",
   "metadata": {},
   "source": [
    "# 6. Das Hauptmodell"
   ]
  },
  {
   "cell_type": "code",
   "execution_count": 11,
   "metadata": {},
   "outputs": [],
   "source": [
    "class RGBA_LSB_StegoNet(nn.Module):\n",
    "    def __init__(self, input_shape):\n",
    "        super(RGBA_LSB_StegoNet, self).__init__()\n",
    "\n",
    "        # Anpassung der ersten Convolutional Layer an 4 Kanäle (RGBA)\n",
    "        self.conv1 = nn.Conv2d(4, 32, kernel_size=3, stride=1, padding=1)  # 4 Input-Kanäle\n",
    "        self.conv2 = nn.Conv2d(32, 32, kernel_size=3, stride=1, padding=1)\n",
    "\n",
    "        # Res-Blöcke\n",
    "        self.resblock1 = nn.Sequential(\n",
    "            nn.Conv2d(32, 32, kernel_size=3, stride=1, padding=1),\n",
    "            nn.ReLU(),\n",
    "            nn.Conv2d(32, 32, kernel_size=3, stride=1, padding=1)\n",
    "        )\n",
    "\n",
    "        self.resblock2 = nn.Sequential(\n",
    "            nn.Conv2d(32, 32, kernel_size=3, stride=1, padding=1),\n",
    "            nn.ReLU(),\n",
    "            nn.Conv2d(32, 32, kernel_size=3, stride=1, padding=1)\n",
    "        )\n",
    "\n",
    "        # Dynamische Berechnung der Flatten-Dimension\n",
    "        self.flatten_size = self.calculate_flatten_size(input_shape)\n",
    "\n",
    "        # Fully connected layers\n",
    "        self.fc1 = nn.Linear(self.flatten_size, 128)\n",
    "        self.fc2 = nn.Linear(128, 2)  # Binary Classification: Normal oder Stego\n",
    "\n",
    "        self.dropout = nn.Dropout(0.5)\n",
    "\n",
    "    def forward(self, x):\n",
    "        # Erste Convolutional Layers\n",
    "        x = F.relu(self.conv1(x))\n",
    "        x = F.relu(self.conv2(x))\n",
    "\n",
    "        # Res-Blöcke\n",
    "        residual = x\n",
    "        x = self.resblock1(x) + residual\n",
    "        residual = x\n",
    "        x = self.resblock2(x) + residual\n",
    "\n",
    "        # Flattening\n",
    "        x = x.view(x.size(0), -1)\n",
    "\n",
    "        # Fully connected Layers\n",
    "        x = F.relu(self.fc1(x))\n",
    "        x = self.dropout(x)\n",
    "        x = self.fc2(x)\n",
    "\n",
    "        return x\n",
    "\n",
    "    def calculate_flatten_size(self, input_shape):\n",
    "        \"\"\"\n",
    "        Berechne die Dimension nach den Convolutional- und Res-Blöcken.\n",
    "        \"\"\"\n",
    "        with torch.no_grad():\n",
    "            x = torch.zeros(1, *input_shape)  # Dummy-Eingabe basierend auf Patch-Größe\n",
    "            x = F.relu(self.conv1(x))\n",
    "            x = F.relu(self.conv2(x))\n",
    "\n",
    "            residual = x\n",
    "            x = self.resblock1(x) + residual\n",
    "            residual = x\n",
    "            x = self.resblock2(x) + residual\n",
    "\n",
    "            return x.numel()  # Anzahl der Elemente nach Flattening"
   ]
  },
  {
   "cell_type": "markdown",
   "metadata": {},
   "source": [
    "# 7. Training & Validierung"
   ]
  },
  {
   "cell_type": "code",
   "execution_count": 12,
   "metadata": {},
   "outputs": [
    {
     "name": "stdout",
     "output_type": "stream",
     "text": [
      "Epoch 1/5\n"
     ]
    },
    {
     "name": "stderr",
     "output_type": "stream",
     "text": [
      "                                                              \r"
     ]
    },
    {
     "name": "stdout",
     "output_type": "stream",
     "text": [
      "Train Loss: 0.6044 | Train Accuracy: 0.7706\n",
      "Val Loss: 0.5641 | Val Accuracy: 0.7500\n",
      "\n",
      "Epoch 2/5\n"
     ]
    },
    {
     "name": "stderr",
     "output_type": "stream",
     "text": [
      "                                                              \r"
     ]
    },
    {
     "name": "stdout",
     "output_type": "stream",
     "text": [
      "Train Loss: 0.5628 | Train Accuracy: 0.7500\n",
      "Val Loss: 0.5623 | Val Accuracy: 0.7500\n",
      "\n",
      "Epoch 3/5\n"
     ]
    },
    {
     "name": "stderr",
     "output_type": "stream",
     "text": [
      "                                                              \r"
     ]
    },
    {
     "name": "stdout",
     "output_type": "stream",
     "text": [
      "Train Loss: 0.5625 | Train Accuracy: 0.7500\n",
      "Val Loss: 0.5623 | Val Accuracy: 0.7500\n",
      "\n",
      "Epoch 4/5\n"
     ]
    },
    {
     "name": "stderr",
     "output_type": "stream",
     "text": [
      "                                                              \r"
     ]
    },
    {
     "name": "stdout",
     "output_type": "stream",
     "text": [
      "Train Loss: 0.5624 | Train Accuracy: 0.7500\n",
      "Val Loss: 0.5624 | Val Accuracy: 0.7500\n",
      "\n",
      "Epoch 5/5\n"
     ]
    },
    {
     "name": "stderr",
     "output_type": "stream",
     "text": [
      "                                                              "
     ]
    },
    {
     "name": "stdout",
     "output_type": "stream",
     "text": [
      "Train Loss: 0.5624 | Train Accuracy: 0.7500\n",
      "Val Loss: 0.5623 | Val Accuracy: 0.7500\n",
      "\n",
      "Training abgeschlossen.\n"
     ]
    },
    {
     "name": "stderr",
     "output_type": "stream",
     "text": [
      "\r"
     ]
    }
   ],
   "source": [
    "# 3. Modell und Loss\n",
    "device = torch.device(\"cuda\" if torch.cuda.is_available() else \"cpu\")\n",
    "model = RGBA_LSB_StegoNet((4, 128, 128)).to(device)\n",
    "criterion = nn.CrossEntropyLoss()\n",
    "optimizer = optim.Adam(model.parameters(), lr=1e-3)\n",
    "epochs = 5\n",
    "\n",
    "# 4. Training und Validierung\n",
    "def train(model, loader, criterion, optimizer):\n",
    "    model.train()\n",
    "    running_loss = 0.0\n",
    "    correct = 0\n",
    "    total = 0\n",
    "\n",
    "    for images, labels in tqdm(loader, desc=\"Training\", leave=False):\n",
    "        images, labels = images.to(device), labels.to(device)\n",
    "\n",
    "        # Forward-Pass\n",
    "        outputs = model(images)\n",
    "        loss = criterion(outputs, labels)\n",
    "\n",
    "        # Backward-Pass und Optimierung\n",
    "        optimizer.zero_grad()\n",
    "        loss.backward()\n",
    "        optimizer.step()\n",
    "\n",
    "        # Metriken aktualisieren\n",
    "        running_loss += loss.item() * images.size(0)\n",
    "        _, predicted = outputs.max(1)\n",
    "        correct += predicted.eq(labels).sum().item()\n",
    "        total += labels.size(0)\n",
    "\n",
    "    epoch_loss = running_loss / total\n",
    "    accuracy = correct / total\n",
    "    return epoch_loss, accuracy\n",
    "\n",
    "def validate(model, loader, criterion):\n",
    "    model.eval()\n",
    "    running_loss = 0.0\n",
    "    correct = 0\n",
    "    total = 0\n",
    "\n",
    "    with torch.no_grad():\n",
    "        for images, labels in tqdm(loader, desc=\"Validation\", leave=False):\n",
    "            images, labels = images.to(device), labels.to(device)\n",
    "\n",
    "            # Forward-Pass\n",
    "            outputs = model(images)\n",
    "            loss = criterion(outputs, labels)\n",
    "\n",
    "            # Metriken aktualisieren\n",
    "            running_loss += loss.item() * images.size(0)\n",
    "            _, predicted = outputs.max(1)\n",
    "            correct += predicted.eq(labels).sum().item()\n",
    "            total += labels.size(0)\n",
    "\n",
    "    epoch_loss = running_loss / total\n",
    "    accuracy = correct / total\n",
    "    return epoch_loss, accuracy\n",
    "\n",
    "# Haupt-Trainingsloop\n",
    "for epoch in range(epochs):\n",
    "    print(f\"Epoch {epoch + 1}/{epochs}\")\n",
    "\n",
    "    train_loss, train_acc = train(model, train_loader, criterion, optimizer)\n",
    "    val_loss, val_acc = validate(model, val_loader, criterion)\n",
    "\n",
    "    print(f\"Train Loss: {train_loss:.4f} | Train Accuracy: {train_acc:.4f}\")\n",
    "    print(f\"Val Loss: {val_loss:.4f} | Val Accuracy: {val_acc:.4f}\\n\")\n",
    "\n",
    "print(\"Training abgeschlossen.\")"
   ]
  },
  {
   "cell_type": "markdown",
   "metadata": {},
   "source": [
    "# 8. Testen auf dem Test-Set"
   ]
  },
  {
   "cell_type": "code",
   "execution_count": null,
   "metadata": {},
   "outputs": [],
   "source": [
    "model.eval()\n",
    "test_loss = 0.0\n",
    "correct = 0\n",
    "total = 0\n",
    "\n",
    "with torch.no_grad():\n",
    "    for test_x, test_y in test_loader:\n",
    "        test_x = test_x.to(device)\n",
    "        test_y = test_y.to(device)\n",
    "        \n",
    "        outputs = model(test_x)\n",
    "        loss_val = criterion(outputs, test_y)\n",
    "        test_loss += loss_val.item()\n",
    "        \n",
    "        _, predicted = outputs.max(1)\n",
    "        correct += (predicted == test_y).sum().item()\n",
    "        total += test_y.size(0)\n",
    "\n",
    "test_loss /= len(test_loader)\n",
    "test_acc = correct / total\n",
    "print(f\"Test Loss: {test_loss:.4f}, Test Accuracy: {test_acc:.4f}\")\n"
   ]
  },
  {
   "cell_type": "code",
   "execution_count": null,
   "metadata": {},
   "outputs": [],
   "source": [
    "model.eval()  # Modell in Evaluierungsmodus\n",
    "all_predictions = {}\n",
    "\n",
    "with torch.no_grad():\n",
    "    for images, labels in test_loader:\n",
    "        images, labels = images.to(device), labels.to(device)\n",
    "        outputs = model(images)\n",
    "        probabilities = torch.softmax(outputs, dim=1)  # Wahrscheinlichkeiten für jede Klasse\n",
    "        preds = probabilities.argmax(dim=1)  # Höchste Wahrscheinlichkeiten\n",
    "        \n",
    "        # Speichere Ergebnisse in einem Dictionary\n",
    "        for i, (prob, pred, label) in enumerate(zip(probabilities, preds, labels)):\n",
    "            all_predictions[i] = {\n",
    "                \"true_label\": label.item(),\n",
    "                \"predicted_label\": pred.item(),\n",
    "                \"probability\": prob[pred].item(),  # Wahrscheinlichkeit vorhergesagter Klasse\n",
    "            }\n",
    "\n",
    "for idx, result in all_predictions.items():\n",
    "    print(\n",
    "        f\"Bild-Index: {idx}  ->  \"\n",
    "        f\"True Label: {result['true_label']}  |  \"\n",
    "        f\"Vorhersage: {result['predicted_label']}  |  \"\n",
    "        f\"Wahrscheinlichkeit: {result['probability']:.4f}\"\n",
    "    )\n"
   ]
  },
  {
   "cell_type": "markdown",
   "metadata": {},
   "source": [
    "## 9. Weitere Analyse"
   ]
  },
  {
   "cell_type": "code",
   "execution_count": null,
   "metadata": {},
   "outputs": [],
   "source": [
    "import matplotlib.pyplot as plt\n",
    "\n",
    "# Visualisierung der Feature Maps\n",
    "def visualize_feature_maps(model, image):\n",
    "    model.eval()\n",
    "    activations = []\n",
    "    \n",
    "    # Aktivierungen speichern\n",
    "    def hook_fn(module, input, output):\n",
    "        activations.append(output)\n",
    "    \n",
    "    # Registriere Hook auf gewünschter Schicht\n",
    "    layer = model.conv1  # Schicht die ich haben will\n",
    "    hook = layer.register_forward_hook(hook_fn)\n",
    "    \n",
    "    # Leite Bild durch Modell\n",
    "    #with torch.no_grad():\n",
    "    image = image.unsqueeze(0).to(device)  # Batch-Dimension hinzufügen\n",
    "    model(image)\n",
    "    \n",
    "    # Entferne Hook\n",
    "    hook.remove()\n",
    "    \n",
    "    # Feature Maps visualisieren\n",
    "    feature_maps = activations[0].cpu().squeeze(0)  # Batch-Dimension entfernen\n",
    "    num_maps = feature_maps.shape[0]\n",
    "    \n",
    "    fig, axes = plt.subplots(1, min(8, num_maps), figsize=(15, 15))\n",
    "    for i in range(min(8, num_maps)):  # Anzahl an Karten die angezeigt werden\n",
    "        ax = axes[i]\n",
    "        ax.imshow(feature_maps[i].detach().numpy(), cmap='viridis')\n",
    "        ax.axis('off')\n",
    "    plt.show()\n",
    "\n",
    "# Aufruf\n",
    "test_image, _ = test_dataset[0]\n",
    "visualize_feature_maps(model, test_image)\n"
   ]
  },
  {
   "cell_type": "code",
   "execution_count": 17,
   "metadata": {},
   "outputs": [
    {
     "data": {
      "image/png": "[encoded data removed]",
      "text/plain": [
       "<Figure size 1000x500 with 2 Axes>"
      ]
     },
     "metadata": {},
     "output_type": "display_data"
    }
   ],
   "source": [
    "from torchcam.methods import SmoothGradCAMpp\n",
    "from torchvision.transforms.functional import to_pil_image\n",
    "import matplotlib.pyplot as plt\n",
    "\n",
    "def visualize_gradcam(model, image, device):\n",
    "    model.eval()\n",
    "\n",
    "    # Grad-CAM-Objekt erstellen und Zielschicht festlegen (z.B. letzte Convolutional-Schicht)\n",
    "    target_layer = model.resblock2[0]  # Erste Schicht des letzten Res-Blocks\n",
    "    cam_extractor = SmoothGradCAMpp(model, target_layer=target_layer)\n",
    "\n",
    "    image = image.unsqueeze(0).to(device)  # Batch-Dimension hinzufügen\n",
    "\n",
    "    # Vorhersage\n",
    "    output = model(image)\n",
    "    prediction = output.argmax(dim=1).item()\n",
    "\n",
    "    # Grad-CAM-Karte berechnen\n",
    "    activation_map = cam_extractor(prediction, output)\n",
    "\n",
    "    # Visualisieren\n",
    "    plt.figure(figsize=(10, 5))\n",
    "    plt.subplot(1, 2, 1)\n",
    "    plt.title(\"Originalbild\")\n",
    "    plt.imshow(image.squeeze(0).permute(1, 2, 0).cpu().numpy())  # RGBA-Darstellung\n",
    "    plt.axis('off')\n",
    "\n",
    "    plt.subplot(1, 2, 2)\n",
    "    plt.title(\"Grad-CAM\")\n",
    "    plt.imshow(image.squeeze(0).permute(1, 2, 0).cpu().numpy(), alpha=0.5)  # Originalbild\n",
    "    plt.imshow(activation_map[0].squeeze().cpu().numpy(), cmap='jet', alpha=0.5)  # Grad-CAM-Karte\n",
    "    plt.axis('off')\n",
    "\n",
    "    plt.show()\n",
    "\n",
    "image, _ = patch_dataset_test[0]\n",
    "visualize_gradcam(model, image, device)\n"
   ]
  },
  {
   "cell_type": "markdown",
   "metadata": {},
   "source": [
    "## 10. To Do`s"
   ]
  },
  {
   "cell_type": "markdown",
   "metadata": {},
   "source": [
    "Sachen noch zum Evaluieren des Models:\n",
    "- versch. Highpass Filter verwenden, gucken was passiert (ist jetziger Optimal?)\n",
    "- nachsehen inwiefern der die entscheidenen Pixel gehighlighted werden (mit Grad-Cam Pixel Highlights ansehen und dann schauen welche Pixel am meisten verändert wurden zum original Bild)\n",
    "- andere Stego implemetierungen nutzen/ sehen ob das auch erkennt wird S- Uniward oder WOW zb\n",
    "- Model struktur evtl. nochmals anpassen => wie reagiert es darauf => rausfinden was jetzt der springende Punkt war\n",
    "- model auf härtere Daten testen => bis auf wie viel byte embeddete Daten kann ich runter gehen??\n",
    "\n",
    "\n",
    "Ansonsten:\n",
    "- implementieren einer SVM die das Probolem lösen kann (Im Titel steht comparative Study) => wäre interessant zu sehen wie andere RL Algorithmen performen => starkes Preprocessing durch X2 usw. nötig\n",
    "- Schreiben anfangen!! Dann sehen wie viel Zeit übrig ist für weitere Untersuchungen\n",
    "- Falls ich nochmal komplexere Daten verwende denken an: Daten-Augmentierung, Hyperparametertuning, Curriculum Training, Early Stopping, Learning-Rate-Scheduler, Cross-Validation \n",
    "\n"
   ]
  }
 ],
 "metadata": {
  "kernelspec": {
   "display_name": "venv",
   "language": "python",
   "name": "python3"
  },
  "language_info": {
   "codemirror_mode": {
    "name": "ipython",
    "version": 3
   },
   "file_extension": ".py",
   "mimetype": "text/x-python",
   "name": "python",
   "nbconvert_exporter": "python",
   "pygments_lexer": "ipython3",
   "version": "3.11.9"
  }
 },
 "nbformat": 4,
 "nbformat_minor": 2
}
