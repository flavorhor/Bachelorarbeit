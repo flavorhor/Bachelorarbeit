{
 "cells": [
  {
   "cell_type": "markdown",
   "metadata": {},
   "source": [
    "## Preprocessing ..."
   ]
  },
  {
   "cell_type": "markdown",
   "metadata": {},
   "source": [
    "## SVM"
   ]
  },
  {
   "cell_type": "code",
   "execution_count": 2,
   "metadata": {},
   "outputs": [
    {
     "name": "stdout",
     "output_type": "stream",
     "text": [
      "Fitting 5 folds for each of 20 candidates, totalling 100 fits\n",
      "Beste Parameter: {'C': 1, 'gamma': 0.0001, 'kernel': 'rbf'}\n",
      "\n",
      "Klassifikationsbericht:\n",
      "              precision    recall  f1-score   support\n",
      "\n",
      "           0       1.00      1.00      1.00      6969\n",
      "           1       1.00      1.00      1.00      7031\n",
      "\n",
      "    accuracy                           1.00     14000\n",
      "   macro avg       1.00      1.00      1.00     14000\n",
      "weighted avg       1.00      1.00      1.00     14000\n",
      "\n",
      "\n",
      "Konfusionsmatrix:\n",
      "[[6967    2]\n",
      " [   6 7025]]\n"
     ]
    }
   ],
   "source": [
    "import numpy as np\n",
    "import os\n",
    "from PIL import Image\n",
    "from sklearn.model_selection import train_test_split, GridSearchCV\n",
    "from sklearn.svm import SVC\n",
    "from sklearn.metrics import classification_report, confusion_matrix\n",
    "from sklearn.preprocessing import StandardScaler\n",
    "\n",
    "# 1. Lade die Daten aus den Ordnern\n",
    "# Ordnerpfad definieren\n",
    "data_path = r\"C:\\Users\\Flavio\\Bachelorarbeit\\LSB\\data_LSB\"\n",
    "clean_path = os.path.join(data_path, \"clean\")\n",
    "stego_path = os.path.join(data_path, \"stego\")\n",
    "\n",
    "# Funktionen zum Laden der Bilder\n",
    "def load_images_from_folder(folder):\n",
    "    images = []\n",
    "    for filename in os.listdir(folder):\n",
    "        img_path = os.path.join(folder, filename)\n",
    "        try:\n",
    "            with Image.open(img_path) as img:\n",
    "                images.append(np.array(img))\n",
    "        except Exception as e:\n",
    "            print(f\"Fehler beim Laden von {img_path}: {e}\")\n",
    "    return images\n",
    "\n",
    "# Bilder und Labels laden\n",
    "clean_images = load_images_from_folder(clean_path)\n",
    "stego_images = load_images_from_folder(stego_path)\n",
    "\n",
    "# Konvertiere zu numpy Arrays und erstelle Labels\n",
    "X = np.array(clean_images + stego_images)\n",
    "y = np.array([0] * len(clean_images) + [1] * len(stego_images))  # 0 = clean, 1 = stego\n",
    "\n",
    "# 2. Reshape der Daten\n",
    "# SVM benötigt die Daten in flacher Form, also (n_samples, n_features).\n",
    "X_flat = X.reshape(X.shape[0], -1)\n",
    "\n",
    "# 3. Train-Test-Split\n",
    "X_train, X_test, y_train, y_test = train_test_split(X_flat, y, test_size=0.2, random_state=42)\n",
    "\n",
    "# 4. Daten-Normalisierung\n",
    "# StandardScaler skaliert die Daten auf Mittelwert=0 und Varianz=1, was für SVM wichtig ist.\n",
    "scaler = StandardScaler()\n",
    "X_train_scaled = scaler.fit_transform(X_train)\n",
    "X_test_scaled = scaler.transform(X_test)\n",
    "\n",
    "# 5. SVM-Definition und Hyperparameter-Tuning\n",
    "# GridSearchCV wird verwendet, um die besten Hyperparameter zu finden.\n",
    "param_grid = {\n",
    "    'C': [0.1, 1, 10, 100],  # Regularisierungsparameter\n",
    "    'gamma': ['scale', 'auto', 0.01, 0.001, 0.0001],  # Kernel-Koeffizient\n",
    "    'kernel': ['rbf']  # Radial Basis Function Kernel\n",
    "}\n",
    "\n",
    "svc = SVC()\n",
    "grid_search = GridSearchCV(svc, param_grid, cv=5, scoring='accuracy', verbose=2, n_jobs=-1)\n",
    "grid_search.fit(X_train_scaled, y_train)\n",
    "\n",
    "# 6. Beste Parameter und Modellbewertung\n",
    "best_svm = grid_search.best_estimator_\n",
    "print(\"Beste Parameter:\", grid_search.best_params_)\n",
    "\n",
    "# 7. Evaluierung des Modells\n",
    "# Testvorhersagen\n",
    "y_pred = best_svm.predict(X_test_scaled)\n",
    "\n",
    "# Ergebnisse ausgeben\n",
    "print(\"\\nKlassifikationsbericht:\")\n",
    "print(classification_report(y_test, y_pred))\n",
    "\n",
    "print(\"\\nKonfusionsmatrix:\")\n",
    "print(confusion_matrix(y_test, y_pred))\n"
   ]
  },
  {
   "cell_type": "code",
   "execution_count": 3,
   "metadata": {},
   "outputs": [
    {
     "name": "stdout",
     "output_type": "stream",
     "text": [
      "Das Modell wurde erfolgreich gespeichert.\n"
     ]
    }
   ],
   "source": [
    "from joblib import dump\n",
    "\n",
    "# Speichern des besten SVM-Modells\n",
    "dump(best_svm, \"svm_model.joblib\")\n",
    "print(\"Das Modell wurde erfolgreich gespeichert.\")\n"
   ]
  },
  {
   "cell_type": "code",
   "execution_count": null,
   "metadata": {},
   "outputs": [],
   "source": [
    "from joblib import load\n",
    "\n",
    "# Laden des gespeicherten Modells\n",
    "loaded_svm = load(\"svm_model.joblib\")\n",
    "print(\"Das Modell wurde erfolgreich geladen.\")\n",
    "\n",
    "# Beispiel: Vorhersagen mit geladenem Modell\n",
    "y_pred = loaded_svm.predict(X_test_scaled)\n"
   ]
  }
 ],
 "metadata": {
  "kernelspec": {
   "display_name": "venv",
   "language": "python",
   "name": "python3"
  },
  "language_info": {
   "codemirror_mode": {
    "name": "ipython",
    "version": 3
   },
   "file_extension": ".py",
   "mimetype": "text/x-python",
   "name": "python",
   "nbconvert_exporter": "python",
   "pygments_lexer": "ipython3",
   "version": "3.11.9"
  }
 },
 "nbformat": 4,
 "nbformat_minor": 2
}
