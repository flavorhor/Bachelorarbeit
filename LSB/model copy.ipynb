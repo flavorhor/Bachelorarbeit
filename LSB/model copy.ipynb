{
 "cells": [
  {
   "cell_type": "markdown",
   "metadata": {},
   "source": [
    "# Steganography Detection using CNN in PyTorch\n",
    "Dieses Notebook zielt darauf ab, ein Convolutional Neural Network (CNN) zu trainieren, um PNG-Bilder mit verstecktem Inhalt (z. B. JavaScript, PowerShell-Skripte und URLs) von normalen PNGs zu unterscheiden.\n",
    "Dataset: 8,000 PNGs (512x512), die entweder „clean“ oder „kompromittiert“ sind (LSB-Steganographie).\n",
    "python 3.11.9"
   ]
  },
  {
   "cell_type": "markdown",
   "metadata": {},
   "source": [
    "# 1. Setup\n",
    "Importiere die benötigten Bibliotheken und definiere die grundlegenden Parameter + Cuda einrichten"
   ]
  },
  {
   "cell_type": "code",
   "execution_count": 2,
   "metadata": {},
   "outputs": [
    {
     "name": "stdout",
     "output_type": "stream",
     "text": [
      "True\n"
     ]
    }
   ],
   "source": [
    "import torch\n",
    "import os\n",
    "import torch.nn as nn\n",
    "import torch.optim as optim\n",
    "from torch.utils.data import DataLoader, Dataset\n",
    "import torchvision.transforms as transforms\n",
    "from torch.utils.data import Subset\n",
    "from PIL import Image\n",
    "import matplotlib.pyplot as plt\n",
    "\n",
    "# Hyperparameters\n",
    "batch_size = 16\n",
    "learning_rate = 0.001\n",
    "num_epochs = 20\n",
    "num_epochs1 = 5\n",
    "\n",
    "# Device-Erkennung (GPU oder CPU) für cuda\n",
    "device = torch.device(\"cuda\" if torch.cuda.is_available() else \"cpu\")\n",
    "print(torch.cuda.is_available())"
   ]
  },
  {
   "cell_type": "markdown",
   "metadata": {},
   "source": [
    "# 2. Datensatz vorbereiten\n",
    "Lade die Bilder und erstelle eine PyTorch Dataset-Klasse für den Umgang mit PNG-Dateien."
   ]
  },
  {
   "cell_type": "code",
   "execution_count": 2,
   "metadata": {},
   "outputs": [],
   "source": [
    "class SteganalysisDataset(Dataset):\n",
    "    def __init__(self, data_dir, transform=None):\n",
    "        # Initialize paths, labels, etc.\n",
    "        self.data_dir = data_dir\n",
    "        self.transform = transform\n",
    "        # Load image paths and labels (implement this part based on your dataset structure)\n",
    "        self.image_paths = []  # List of image file paths\n",
    "        self.labels = []       # Corresponding labels (0 for clean, 1 for steg)\n",
    "\n",
    "        for label, subdir in enumerate(['clean', 'stego']):\n",
    "            path = os.path.join(data_dir, subdir)\n",
    "            for img_name in os.listdir(path):\n",
    "                img_path = os.path.join(path, img_name)\n",
    "                self.image_paths.append(img_path)\n",
    "                self.labels.append(label)\n",
    "\n",
    "    def __len__(self):\n",
    "        return len(self.image_paths)\n",
    "\n",
    "    def __getitem__(self, idx):\n",
    "        # Load image and label\n",
    "        image_path = self.image_paths[idx]\n",
    "        image = Image.open(image_path).convert(\"RGB\")\n",
    "        if self.transform:\n",
    "            image = self.transform(image)\n",
    "        label = self.labels[idx]\n",
    "        # Load image using PIL or cv2\n",
    "        # Apply transforms\n",
    "        return image, label\n",
    "\n",
    "# Define transformations for the dataset\n",
    "transform = transforms.Compose([\n",
    "    transforms.ToTensor(),\n",
    "    transforms.Normalize(mean=[0.5, 0.5, 0.5], std=[0.5, 0.5, 0.5])  # Normalize to [-1, 1]\n",
    "])\n",
    "\n",
    "# Reduce the dataset size\n",
    "subset_size = 4000  # Use 2000 clean and 2000 steg images\n",
    "indices = torch.randperm(len(SteganalysisDataset(data_dir='data/train', transform=transform)))[:subset_size]\n",
    "train_subset = Subset(SteganalysisDataset(data_dir='data/train', transform=transform), indices)\n",
    "\n",
    "# Create a DataLoader with reduced batch size\n",
    "train_loader1 = DataLoader(train_subset, batch_size=16, shuffle=True)\n",
    "\n",
    "# Dataset and DataLoader\n",
    "train_dataset = SteganalysisDataset(data_dir='data/train', transform=transform)\n",
    "train_loader = DataLoader(train_dataset, batch_size=batch_size, shuffle=True)\n",
    "\n",
    "test_dataset = SteganalysisDataset(data_dir='data/test', transform=transform)\n",
    "test_loader = DataLoader(test_dataset, batch_size=batch_size, shuffle=False)"
   ]
  },
  {
   "cell_type": "code",
   "execution_count": null,
   "metadata": {},
   "outputs": [
    {
     "name": "stdout",
     "output_type": "stream",
     "text": [
      "[6000, 2000, 6000, 6000, 4000, 12000]\n"
     ]
    }
   ],
   "source": [
    "import os\n",
    "\n",
    "paths = [\"data/test/stego_b64\", \"data/test/clean\", \"data/test/stego\", \"data/test/stego_zip\", \"data/train/clean\", \"data/train/stego\"]\n",
    "numbers = []\n",
    "\n",
    "for path in paths:  # 'paths' direkt durchlaufen\n",
    "    x = 0\n",
    "    if os.path.exists(path):  # Überprüfen, ob der Pfad existiert\n",
    "        for img_name in os.listdir(path):  # Dateien im Pfad zählen\n",
    "            x += 1\n",
    "    else:\n",
    "        print(f\"Pfad nicht gefunden: {path}\")\n",
    "    numbers.append(x)\n",
    "\n",
    "print(numbers)"
   ]
  },
  {
   "cell_type": "markdown",
   "metadata": {},
   "source": [
    "# 3. Modell definieren\n",
    "Erstellen eines CNN-Modells zur Unterscheidung von „clean“ und „kompromittierten“ Bildern."
   ]
  },
  {
   "cell_type": "code",
   "execution_count": 3,
   "metadata": {},
   "outputs": [],
   "source": [
    "# Define your CNN architecture\n",
    "class SteganalysisCNN(nn.Module):\n",
    "    def __init__(self):\n",
    "        super(SteganalysisCNN, self).__init__()\n",
    "        \n",
    "        self.conv_layers = nn.Sequential(\n",
    "            nn.Conv2d(3, 16, kernel_size=3, stride=1, padding=1),  # Input channels: 3 (RGB), Output: 16\n",
    "            nn.ReLU(),\n",
    "            nn.Conv2d(16, 32, kernel_size=3, stride=1, padding=1),  # Increase channels to 32\n",
    "            nn.ReLU(),\n",
    "            nn.MaxPool2d(kernel_size=2, stride=2),  # Downsample\n",
    "            \n",
    "            nn.Conv2d(32, 64, kernel_size=3, stride=1, padding=1),\n",
    "            nn.ReLU(),\n",
    "            nn.Conv2d(64, 128, kernel_size=3, stride=1, padding=1),\n",
    "            nn.ReLU(),\n",
    "            nn.MaxPool2d(kernel_size=2, stride=2),\n",
    "            \n",
    "            nn.Conv2d(128, 256, kernel_size=3, stride=1, padding=1),\n",
    "            nn.ReLU(),\n",
    "            nn.MaxPool2d(kernel_size=2, stride=2)  # Further downsample\n",
    "        )\n",
    "        \n",
    "        self.fc_layers = nn.Sequential(\n",
    "            nn.Flatten(),\n",
    "            nn.Linear(256 * (512 // 8) * (512 // 8), 512),  # Adjust for input image size (512x512)\n",
    "            nn.ReLU(),\n",
    "            nn.Dropout(0.5),\n",
    "            nn.Linear(512, 1),  # Binary classification (steganography or not)\n",
    "            nn.Sigmoid()\n",
    "        )\n",
    "        \n",
    "    def forward(self, x):\n",
    "        x = self.conv_layers(x)\n",
    "        x = self.fc_layers(x)\n",
    "        return x\n",
    "    \n",
    "\n",
    "model = SteganalysisCNN().to(device)\n",
    "criterion = nn.BCELoss()  # Binary Cross-Entropy Loss\n",
    "optimizer = optim.Adam(model.parameters(), lr=learning_rate)"
   ]
  },
  {
   "cell_type": "markdown",
   "metadata": {},
   "source": [
    "# 4. Training-Funktion"
   ]
  },
  {
   "cell_type": "code",
   "execution_count": 4,
   "metadata": {},
   "outputs": [],
   "source": [
    "def train(model, loader, criterion, optimizer):\n",
    "    model.train()\n",
    "    running_loss = 0.0\n",
    "    correct, total = 0, 0\n",
    "    \n",
    "    for images, labels in loader:\n",
    "        #für cuda\n",
    "        images, labels = images.to(device), labels.to(device)\n",
    "\n",
    "        optimizer.zero_grad()\n",
    "        outputs = model(images).squeeze() # 1inDieKlammer BCELoss braucht gleichdimensionale Tensoren. Bisher immer 32,1 gehabt\n",
    "        labels = labels.float() #muss gleicher Datentyp sein\n",
    "        loss = criterion(outputs, labels)\n",
    "        loss.backward()\n",
    "        optimizer.step()\n",
    "        \n",
    "        running_loss += loss.item()\n",
    "        predicted = (outputs > 0.5).float()\n",
    "        total += labels.size(0)\n",
    "        correct += (predicted == labels).sum().item()\n",
    "\n",
    "    accuracy = 100 * correct / total\n",
    "    print(f'Training Loss: {running_loss / len(loader):.4f}, Accuracy: {accuracy:.2f}%')\n",
    "    return running_loss / len(loader), accuracy"
   ]
  },
  {
   "cell_type": "markdown",
   "metadata": {},
   "source": [
    "# 5. Test-Funktion"
   ]
  },
  {
   "cell_type": "code",
   "execution_count": 5,
   "metadata": {},
   "outputs": [],
   "source": [
    "def test(model, loader, criterion):\n",
    "    model.eval()\n",
    "    running_loss = 0.0\n",
    "    correct, total = 0, 0\n",
    "\n",
    "    with torch.no_grad():\n",
    "        for images, labels in loader:\n",
    "            #für cuda\n",
    "            images, labels = images.to(device), labels.to(device).float()\n",
    "            \n",
    "            outputs = model(images).squeeze()\n",
    "            loss = criterion(outputs, labels)\n",
    "            running_loss += loss.item()\n",
    "            \n",
    "            predicted = (outputs > 0.5).float()\n",
    "            total += labels.size(0)\n",
    "            correct += (predicted == labels).sum().item()\n",
    "\n",
    "    accuracy = 100 * correct / total\n",
    "    print(f'Test Loss: {running_loss / len(loader):.4f}, Accuracy: {accuracy:.2f}%')\n",
    "    return running_loss / len(loader), accuracy"
   ]
  },
  {
   "cell_type": "markdown",
   "metadata": {},
   "source": [
    "# 6. Training & Evaluation"
   ]
  },
  {
   "cell_type": "code",
   "execution_count": 6,
   "metadata": {},
   "outputs": [
    {
     "name": "stdout",
     "output_type": "stream",
     "text": [
      "Epoch 1/20\n",
      "Training Loss: 24.3277, Accuracy: 75.60%\n",
      "Test Loss: 25.0000, Accuracy: 75.00%\n",
      "Epoch 2/20\n",
      "Training Loss: 24.4000, Accuracy: 75.60%\n",
      "Test Loss: 25.0000, Accuracy: 75.00%\n",
      "Epoch 3/20\n",
      "Training Loss: 24.4000, Accuracy: 75.60%\n",
      "Test Loss: 25.0000, Accuracy: 75.00%\n",
      "Epoch 4/20\n",
      "Training Loss: 24.4000, Accuracy: 75.60%\n",
      "Test Loss: 25.0000, Accuracy: 75.00%\n",
      "Epoch 5/20\n",
      "Training Loss: 24.4000, Accuracy: 75.60%\n",
      "Test Loss: 25.0000, Accuracy: 75.00%\n",
      "Epoch 6/20\n",
      "Training Loss: 24.4000, Accuracy: 75.60%\n",
      "Test Loss: 25.0000, Accuracy: 75.00%\n",
      "Epoch 7/20\n",
      "Training Loss: 24.4000, Accuracy: 75.60%\n",
      "Test Loss: 25.0000, Accuracy: 75.00%\n",
      "Epoch 8/20\n",
      "Training Loss: 24.4000, Accuracy: 75.60%\n",
      "Test Loss: 25.0000, Accuracy: 75.00%\n",
      "Epoch 9/20\n",
      "Training Loss: 24.4000, Accuracy: 75.60%\n",
      "Test Loss: 25.0000, Accuracy: 75.00%\n",
      "Epoch 10/20\n",
      "Training Loss: 24.4000, Accuracy: 75.60%\n",
      "Test Loss: 25.0000, Accuracy: 75.00%\n",
      "Epoch 11/20\n",
      "Training Loss: 24.4000, Accuracy: 75.60%\n",
      "Test Loss: 25.0000, Accuracy: 75.00%\n",
      "Epoch 12/20\n",
      "Training Loss: 24.4000, Accuracy: 75.60%\n",
      "Test Loss: 25.0000, Accuracy: 75.00%\n",
      "Epoch 13/20\n",
      "Training Loss: 24.4000, Accuracy: 75.60%\n",
      "Test Loss: 25.0000, Accuracy: 75.00%\n",
      "Epoch 14/20\n",
      "Training Loss: 24.4000, Accuracy: 75.60%\n",
      "Test Loss: 25.0000, Accuracy: 75.00%\n",
      "Epoch 15/20\n",
      "Training Loss: 24.4000, Accuracy: 75.60%\n",
      "Test Loss: 25.0000, Accuracy: 75.00%\n",
      "Epoch 16/20\n",
      "Training Loss: 24.4000, Accuracy: 75.60%\n",
      "Test Loss: 25.0000, Accuracy: 75.00%\n",
      "Epoch 17/20\n",
      "Training Loss: 24.4000, Accuracy: 75.60%\n",
      "Test Loss: 25.0000, Accuracy: 75.00%\n",
      "Epoch 18/20\n",
      "Training Loss: 24.4000, Accuracy: 75.60%\n",
      "Test Loss: 25.0000, Accuracy: 75.00%\n",
      "Epoch 19/20\n",
      "Training Loss: 24.4000, Accuracy: 75.60%\n",
      "Test Loss: 25.0000, Accuracy: 75.00%\n",
      "Epoch 20/20\n",
      "Training Loss: 24.4000, Accuracy: 75.60%\n",
      "Test Loss: 25.0000, Accuracy: 75.00%\n"
     ]
    }
   ],
   "source": [
    "train_losses, train_accuracies = [], []\n",
    "test_losses, test_accuracies = [], []\n",
    "\n",
    "for epoch in range(num_epochs):\n",
    "    print(f'Epoch {epoch + 1}/{num_epochs}')\n",
    "    train_loss, train_accuracy = train(model, train_loader1, criterion, optimizer)\n",
    "    test_loss, test_accuracy = test(model, test_loader, criterion)\n",
    "    \n",
    "    train_losses.append(train_loss)\n",
    "    train_accuracies.append(train_accuracy)\n",
    "    test_losses.append(test_loss)\n",
    "    test_accuracies.append(test_accuracy)"
   ]
  },
  {
   "cell_type": "markdown",
   "metadata": {},
   "source": [
    "# 7. Visualize Results"
   ]
  },
  {
   "cell_type": "code",
   "execution_count": 12,
   "metadata": {},
   "outputs": [
    {
     "data": {
      "image/png": "[encoded data removed]",
      "text/plain": [
       "<Figure size 1200x500 with 2 Axes>"
      ]
     },
     "metadata": {},
     "output_type": "display_data"
    }
   ],
   "source": [
    "plt.figure(figsize=(12, 5))\n",
    "plt.subplot(1, 2, 1)\n",
    "plt.plot(range(num_epochs), train_losses, label='Train Loss')\n",
    "plt.plot(range(num_epochs), test_losses, label='Test Loss')\n",
    "plt.xlabel('Epoch')\n",
    "plt.ylabel('Loss')\n",
    "plt.legend()\n",
    "\n",
    "plt.subplot(1, 2, 2)\n",
    "plt.plot(range(num_epochs), train_accuracies, label='Train Accuracy')\n",
    "plt.plot(range(num_epochs), test_accuracies, label='Test Accuracy')\n",
    "plt.xlabel('Epoch')\n",
    "plt.ylabel('Accuracy (%)')\n",
    "plt.legend()\n",
    "plt.show()"
   ]
  },
  {
   "cell_type": "code",
   "execution_count": 8,
   "metadata": {},
   "outputs": [
    {
     "name": "stdout",
     "output_type": "stream",
     "text": [
      "Modell gespeichert als 'stegano_cnn.pth'\n"
     ]
    }
   ],
   "source": [
    "torch.save(model.state_dict(), 'stegano_cnn.pth')\n",
    "print(\"Modell gespeichert als 'stegano_cnn.pth'\")"
   ]
  },
  {
   "cell_type": "markdown",
   "metadata": {},
   "source": [
    "# 8. DEBUGGING\n"
   ]
  },
  {
   "cell_type": "code",
   "execution_count": 17,
   "metadata": {},
   "outputs": [
    {
     "name": "stdout",
     "output_type": "stream",
     "text": [
      "Predictions: [1 1 1 1 1 1 1 1 1 1 1 1 1 1 1 1]\n",
      "Labels: [0 0 0 1 1 1 1 1 1 1 1 0 1 1 0 1]\n"
     ]
    }
   ],
   "source": [
    "for images, labels in train_loader1:\n",
    "        #für cuda\n",
    "        images, labels = images.to(device), labels.to(device)\n",
    "# Example: Visualize predictions and labels\n",
    "outputs = model(images).squeeze().detach().cpu().numpy()\n",
    "predictions = (outputs > 0.5).astype(int)\n",
    "print(f\"Predictions: {predictions}\")\n",
    "print(f\"Labels: {labels.cpu().numpy()}\")"
   ]
  },
  {
   "cell_type": "code",
   "execution_count": 18,
   "metadata": {},
   "outputs": [
    {
     "name": "stdout",
     "output_type": "stream",
     "text": [
      "Counter({1: 12000, 0: 4000})\n"
     ]
    }
   ],
   "source": [
    "from collections import Counter\n",
    "print(Counter(train_dataset.labels))  # Adjust `train_dataset.labels` to match your data structure"
   ]
  },
  {
   "cell_type": "code",
   "execution_count": null,
   "metadata": {},
   "outputs": [],
   "source": []
  }
 ],
 "metadata": {
  "kernelspec": {
   "display_name": "venv",
   "language": "python",
   "name": "python3"
  },
  "language_info": {
   "codemirror_mode": {
    "name": "ipython",
    "version": 3
   },
   "file_extension": ".py",
   "mimetype": "text/x-python",
   "name": "python",
   "nbconvert_exporter": "python",
   "pygments_lexer": "ipython3",
   "version": "3.11.9"
  }
 },
 "nbformat": 4,
 "nbformat_minor": 2
}
