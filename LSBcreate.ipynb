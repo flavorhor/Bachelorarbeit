{
 "cells": [
  {
   "cell_type": "code",
   "execution_count": 2,
   "id": "f40cc4cc-2958-4cca-8df6-6314d93c7fa9",
   "metadata": {},
   "outputs": [
    {
     "name": "stdout",
     "output_type": "stream",
     "text": [
      "Text erfolgreich in 'dogPict/steg/dog-3389729_1280.jpg' versteckt.\n"
     ]
    }
   ],
   "source": [
    "#create steg images\n",
    "from PIL import Image\n",
    "\n",
    "def text_to_binary(text):\n",
    "    # Wandelt den Text in eine binäre Darstellung um\n",
    "    return ''.join(format(ord(char), '08b') for char in text)\n",
    "\n",
    "def hide_text_in_image(image_path, output_path, text):\n",
    "    # Bild laden\n",
    "    image = Image.open(image_path)\n",
    "    # Konvertiere das Bild in den RGBA-Modus (um sicherzustellen, dass es ein geeignetes Format hat)\n",
    "    image = image.convert('RGBA')\n",
    "    pixels = image.load()\n",
    "\n",
    "    # Text in binäre Form umwandeln und ein Ende-Symbol anfügen, um den Text später extrahieren zu können\n",
    "    binary_text = text_to_binary(text) + '1111111111111110'  # Verwende ein spezielles Endzeichen\n",
    "\n",
    "    width, height = image.size\n",
    "    binary_index = 0\n",
    "\n",
    "    for y in range(height):\n",
    "        for x in range(width):\n",
    "            # Holen der aktuellen Pixelwerte\n",
    "            r, g, b, a = pixels[x, y]\n",
    "\n",
    "            # Nur die unteren Bits der roten Kanalkomponente ändern\n",
    "            if binary_index < len(binary_text):\n",
    "                r = (r & 0xFE) | int(binary_text[binary_index])\n",
    "                binary_index += 1\n",
    "\n",
    "            if binary_index < len(binary_text):\n",
    "                g = (g & 0xFE) | int(binary_text[binary_index])\n",
    "                binary_index += 1\n",
    "\n",
    "            if binary_index < len(binary_text):\n",
    "                b = (b & 0xFE) | int(binary_text[binary_index])\n",
    "                binary_index += 1\n",
    "\n",
    "            # Setzen des neuen Wertes im Bild\n",
    "            pixels[x, y] = (r, g, b, a)\n",
    "\n",
    "            # Abbrechen, wenn der gesamte Text versteckt wurde\n",
    "            if binary_index >= len(binary_text):\n",
    "                break\n",
    "        if binary_index >= len(binary_text):\n",
    "            break\n",
    "\n",
    "    # Speichern des geänderten Bildes\n",
    "    image.save(output_path, 'PNG')\n",
    "    print(f\"Text erfolgreich in '{output_path}' versteckt.\")\n",
    "\n",
    "# Beispiel-Aufruf\n",
    "hide_text_in_image('dogPict/orig/dog-3389729_1280.jpg', 'dogPict/steg/dog-3389729_1280.jpg', 'secret text')\n"
   ]
  },
  {
   "cell_type": "code",
   "execution_count": null,
   "id": "c31f3033-8148-4aa4-bd5c-4073649ff0c1",
   "metadata": {},
   "outputs": [],
   "source": []
  }
 ],
 "metadata": {
  "kernelspec": {
   "display_name": "Python 3 (ipykernel)",
   "language": "python",
   "name": "python3"
  },
  "language_info": {
   "codemirror_mode": {
    "name": "ipython",
    "version": 3
   },
   "file_extension": ".py",
   "mimetype": "text/x-python",
   "name": "python",
   "nbconvert_exporter": "python",
   "pygments_lexer": "ipython3",
   "version": "3.9.6"
  }
 },
 "nbformat": 4,
 "nbformat_minor": 5
}
