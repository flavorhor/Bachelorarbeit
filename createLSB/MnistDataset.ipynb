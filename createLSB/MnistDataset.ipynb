{
 "cells": [
  {
   "cell_type": "code",
   "execution_count": 6,
   "metadata": {},
   "outputs": [],
   "source": [
    "import os\n",
    "from datasets import load_dataset\n",
    "\n",
    "ds = load_dataset(\"ylecun/mnist\")"
   ]
  },
  {
   "cell_type": "code",
   "execution_count": 7,
   "metadata": {},
   "outputs": [
    {
     "name": "stdout",
     "output_type": "stream",
     "text": [
      "DatasetDict({\n",
      "    train: Dataset({\n",
      "        features: ['image', 'label'],\n",
      "        num_rows: 60000\n",
      "    })\n",
      "    test: Dataset({\n",
      "        features: ['image', 'label'],\n",
      "        num_rows: 10000\n",
      "    })\n",
      "})\n"
     ]
    }
   ],
   "source": [
    "print(ds)"
   ]
  },
  {
   "cell_type": "code",
   "execution_count": 8,
   "metadata": {},
   "outputs": [
    {
     "name": "stdout",
     "output_type": "stream",
     "text": [
      "{'image': <PIL.PngImagePlugin.PngImageFile image mode=L size=28x28 at 0x12AAE3E50>, 'label': 5}\n"
     ]
    }
   ],
   "source": [
    "example = ds[\"train\"][0]\n",
    "print(example)"
   ]
  },
  {
   "cell_type": "code",
   "execution_count": 9,
   "metadata": {},
   "outputs": [],
   "source": [
    "import os\n",
    "\n",
    "os.makedirs(\"mnist_images\", exist_ok=True)\n",
    "\n"
   ]
  },
  {
   "cell_type": "code",
   "execution_count": 10,
   "metadata": {},
   "outputs": [
    {
     "name": "stdout",
     "output_type": "stream",
     "text": [
      "Gespeicherte Bilder: 70000\n"
     ]
    }
   ],
   "source": [
    "count = 0\n",
    "for split_name in [\"train\", \"test\"]:\n",
    "    for sample in ds[split_name]:\n",
    "        # sample[\"image\"] ist ein PIL-Image\n",
    "        image = sample[\"image\"]\n",
    "        # Bild speichern (alle in demselben Ordner)\n",
    "        image.save(f\"mnist_images/image_{count}.png\")\n",
    "        count += 1\n",
    "\n",
    "print(f\"Gespeicherte Bilder: {count}\")\n"
   ]
  },
  {
   "cell_type": "code",
   "execution_count": 17,
   "metadata": {},
   "outputs": [
    {
     "name": "stdout",
     "output_type": "stream",
     "text": [
      "Breite: 28, Höhe: 28\n",
      "L\n"
     ]
    }
   ],
   "source": [
    "from PIL import Image\n",
    "\n",
    "with Image.open(\"/Users/flaviohorak/Desktop/Bachelorarbeit/notebooks/createLSB/mnist_images/image_0.png\") as img:\n",
    "    width, height = img.size\n",
    "    print(f\"Breite: {width}, Höhe: {height}\")\n",
    "    print(img.mode)\n"
   ]
  },
  {
   "cell_type": "code",
   "execution_count": null,
   "metadata": {},
   "outputs": [],
   "source": []
  }
 ],
 "metadata": {
  "kernelspec": {
   "display_name": "Python 3",
   "language": "python",
   "name": "python3"
  },
  "language_info": {
   "codemirror_mode": {
    "name": "ipython",
    "version": 3
   },
   "file_extension": ".py",
   "mimetype": "text/x-python",
   "name": "python",
   "nbconvert_exporter": "python",
   "pygments_lexer": "ipython3",
   "version": "3.9.6"
  }
 },
 "nbformat": 4,
 "nbformat_minor": 2
}
