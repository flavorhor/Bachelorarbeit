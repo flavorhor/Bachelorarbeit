{
 "cells": [
  {
   "cell_type": "code",
   "execution_count": 6,
   "metadata": {},
   "outputs": [
    {
     "name": "stdout",
     "output_type": "stream",
     "text": [
      "Text erfolgreich in 'data/steg/0.png' versteckt.\n"
     ]
    }
   ],
   "source": [
    "#create steg images\n",
    "from PIL import Image\n",
    "\n",
    "def text_to_binary(text):\n",
    "    # Wandelt den Text in eine binäre Darstellung um\n",
    "    return ''.join(format(ord(char), '08b') for char in text)\n",
    "\n",
    "def hide_text_in_image(image_path, output_path, text):\n",
    "    # Bild laden\n",
    "    image = Image.open(image_path)\n",
    "    # Konvertiere das Bild in den RGBA-Modus (um sicherzustellen, dass es ein geeignetes Format hat)\n",
    "    image = image.convert('RGBA')\n",
    "    pixels = image.load()\n",
    "\n",
    "    # Text in binäre Form umwandeln und ein Ende-Symbol anfügen, um den Text später extrahieren zu können\n",
    "    binary_text = text_to_binary(text) + '1111111111111110'  # Verwende ein spezielles Endzeichen\n",
    "\n",
    "    width, height = image.size\n",
    "    binary_index = 0\n",
    "\n",
    "    for y in range(height):\n",
    "        for x in range(width):\n",
    "            # Holen der aktuellen Pixelwerte\n",
    "            r, g, b, a = pixels[x, y]\n",
    "\n",
    "            # Nur die unteren Bits der roten Kanalkomponente ändern\n",
    "            if binary_index < len(binary_text):\n",
    "                r = (r & 0xFE) | int(binary_text[binary_index])\n",
    "                binary_index += 1\n",
    "\n",
    "            if binary_index < len(binary_text):\n",
    "                g = (g & 0xFE) | int(binary_text[binary_index])\n",
    "                binary_index += 1\n",
    "\n",
    "            if binary_index < len(binary_text):\n",
    "                b = (b & 0xFE) | int(binary_text[binary_index])\n",
    "                binary_index += 1\n",
    "\n",
    "            # Setzen des neuen Wertes im Bild\n",
    "            pixels[x, y] = (r, g, b, a)\n",
    "\n",
    "            # Abbrechen, wenn der gesamte Text versteckt wurde\n",
    "            if binary_index >= len(binary_text):\n",
    "                break\n",
    "        if binary_index >= len(binary_text):\n",
    "                       break\n",
    "\n",
    "    # Speichern des geänderten Bildes\n",
    "    image.save(output_path, 'PNG')\n",
    "    print(f\"Text erfolgreich in '{output_path}' versteckt.\")\n",
    "\n",
    "a = \"\"\"Lorem ipsum dolor sit amet, consetetur sadipscing elitr, sed diam nonumy eirmod tempor invidunt ut labore et dolore magna aliquyam erat, sed diam voluptua. At vero eos et accusam et justo duo dolores et ea rebum. Stet clita kasd gubergren, no sea takimata sanctus est Lorem ipsum dolor sit amet. Lorem ipsum dolor sit amet, consetetur sadipscing elitr, sed diam nonumy eirmod tempor invidunt ut labore et dolore magna aliquyam erat, sed diam voluptua. At vero eos et accusam et justo duo dolores et ea rebum. Stet clita kasd gubergren, no sea takimata sanctus est Lorem ipsum dolor sit amet. Lorem ipsum dolor sit amet, consetetur sadipscing elitr, sed diam nonumy eirmod tempor invidunt ut labore et dolore magna aliquyam erat, sed diam voluptua. At vero eos et accusam et justo duo dolores et ea rebum. Stet clita kasd gubergren, no sea takimata sanctus est Lorem ipsum dolor sit amet.   \n",
    "\n",
    "Duis autem vel eum iri\n",
    "Duis autem vel eum iriure dolor in hendrerit in vulputate velit esse molestie consequat, vel illum dolore eu feugiat nulla facilisis at vero eros et accumsan et iusto odio dignissim qui blandit praesent luptatum zzril delenit augue duis dolore te feugait nulla facilisi. Lorem ipsum dolor sit amet, consectetuer adipiscing elit, sed diam nonummy nibh euismod tincidunt ut laoreet dolore magna aliquam erat volutpat.   \n",
    "\n",
    "Ut wisi enim ad minim veniam, quis nostrud exerci tation ullamcorper suscipit lobortis nisl ut aliquip ex ea commodo consequat. Duis autem vel eum iriure dolor in hendrerit in vulputate velit esse molestie consequat, vel illum dolore eu feugiat nulla facilisis at vero eros et accumsan et iusto odio dignissim qui blandit praesent luptatum zzril delenit augue duis dolore te feugait nulla facilisi.   \n",
    "\n",
    "Nam liber tempor cum soluta nobis eleifend option congue nihil imperdiet doming id quod mazim placerat facer possim assum. Lorem ipsum dolor sit amet, consectetuer adipiscing elit, sed diam nonummy nibh euismod tincidunt ut laoreet dolore magna aliquam erat volutpat. Ut wisi enim ad minim veniam, quis nostrud exerci tation ullamcorper suscipit lobortis nisl ut aliquip ex ea commodo consequat.   \n",
    "\n",
    "Duis autem vel eum iriure dolor in hendrerit in vulputate velit esse molestie consequat, vel illum dolore eu feugiat nulla facilisis.   \n",
    "\n",
    "At vero eos et accusam et justo duo dolores et ea rebum. Stet clita kasd gubergren, no sea takimata sanctus est Lorem ipsum dolor sit amet. Lorem ipsum dolor sit amet, consetetur sadipscing elitr, sed diam nonumy eirmod tempor invidunt ut labore et dolore magna aliquyam erat, sed diam voluptua. At vero eos et accusam et justo duo dolores et ea rebum. Stet clita kasd gubergren, no sea takimata sanctus est Lorem ipsum dolor sit amet. Lorem ipsum dolor sit amet, consetetur sadipscing elitr, At accusam aliquyam diam diam dolore dolores duo eirmod eos erat, et nonumy sed tempor et et invidunt justo labore Stet clita ea et gubergren, kasd magna no rebum. sanctus sea sed takimata ut vero voluptua. est Lorem ipsum dolor sit amet. Lorem ipsum dolor sit amet, consetetur sadipscing elitr, sed diam nonumy eirmod tempor invidunt ut labore et dolore magna aliquyam erat.   \n",
    "\n",
    "Consetetam et justo duo dolores et ea rebum. Stet clita kasd gubergren, no sea takimata sanctus est Lorem ipsum dolor sit amet. Lorem ipsum dolor sit amet, consetetur sadipscing elitr, sed diam nonumy eirmod tempor invidunt ut labore et dolore magna aliquyam erat, sed diam voluptua. At vero eos et accusam et justo duo dolores et ea rebum. Stet clita kasd gubergren, no sea takimata sanctus est Lorem ipsum dolor sit amet. Lorem ipsum dolor sit amet, consetetur sadipscing elitr, sed diam nonumy eirmod tempor invidunt ut labore et dolore magna aliquyam erat, sed diam voluptua. At vero eos et accusam et\"\"\"\n",
    "\n",
    "# Beispiel-Aufruf\n",
    "hide_text_in_image('data/orig/0.png', 'data/steg/0.png',\n",
    "                    a) \n",
    "\n"
   ]
  },
  {
   "cell_type": "code",
   "execution_count": 1,
   "metadata": {},
   "outputs": [
    {
     "name": "stdout",
     "output_type": "stream",
     "text": [
      "Beste Hyperparameter: {'learning_rate': 8.200702390604559e-05, 'batch_size': 16, 'num_epochs': 30}\n",
      "Bester Zielwert: 51.9\n",
      "Parameter: {'learning_rate': 0.016192132788458907, 'batch_size': 8, 'num_epochs': 30}, Zielwert: 50.0\n",
      "Parameter: {'learning_rate': 0.09076791472447349, 'batch_size': 16, 'num_epochs': 5}, Zielwert: 50.0\n",
      "Parameter: {'learning_rate': 0.02015396372823198, 'batch_size': 8, 'num_epochs': 5}, Zielwert: 50.0\n",
      "Parameter: {'learning_rate': 0.0005235354380666368, 'batch_size': 16, 'num_epochs': 25}, Zielwert: 50.0\n",
      "Parameter: {'learning_rate': 1.4875721598777699e-05, 'batch_size': 32, 'num_epochs': 5}, Zielwert: 50.2\n",
      "Parameter: {'learning_rate': 0.06517203566464354, 'batch_size': 16, 'num_epochs': 45}, Zielwert: 50.0\n",
      "Parameter: {'learning_rate': 0.00012091703906029786, 'batch_size': 16, 'num_epochs': 15}, Zielwert: 50.7\n",
      "Parameter: {'learning_rate': 0.051585054036362425, 'batch_size': 32, 'num_epochs': 50}, Zielwert: 50.0\n",
      "Parameter: {'learning_rate': 0.0008576254741471613, 'batch_size': 32, 'num_epochs': 5}, Zielwert: 50.0\n",
      "Parameter: {'learning_rate': 0.09422923291656926, 'batch_size': 16, 'num_epochs': 40}, Zielwert: 50.0\n",
      "Parameter: {'learning_rate': 6.967971202729588e-05, 'batch_size': 16, 'num_epochs': 20}, Zielwert: 51.0\n",
      "Parameter: {'learning_rate': 5.0348773679436055e-05, 'batch_size': 16, 'num_epochs': 20}, Zielwert: 50.9\n",
      "Parameter: {'learning_rate': 2.2528246335544633e-05, 'batch_size': 16, 'num_epochs': 20}, Zielwert: 50.9\n",
      "Parameter: {'learning_rate': 8.200702390604559e-05, 'batch_size': 16, 'num_epochs': 30}, Zielwert: 51.9\n",
      "Parameter: {'learning_rate': 0.00017739156302793097, 'batch_size': 16, 'num_epochs': 35}, Zielwert: 50.0\n",
      "Parameter: {'learning_rate': 0.003268107247376644, 'batch_size': 8, 'num_epochs': 30}, Zielwert: None\n"
     ]
    },
    {
     "name": "stderr",
     "output_type": "stream",
     "text": [
      "/Users/flaviohorak/Desktop/Bachelorarbeit/notebooks/venv/lib/python3.9/site-packages/tqdm/auto.py:21: TqdmWarning: IProgress not found. Please update jupyter and ipywidgets. See https://ipywidgets.readthedocs.io/en/stable/user_install.html\n",
      "  from .autonotebook import tqdm as notebook_tqdm\n"
     ]
    }
   ],
   "source": [
    "import joblib\n",
    "\n",
    "# Lade die Optuna-Studie\n",
    "study = joblib.load(\"study.pkl\")\n",
    "\n",
    "# Zeige die besten Ergebnisse an\n",
    "print(\"Beste Hyperparameter:\", study.best_params)\n",
    "print(\"Bester Zielwert:\", study.best_value)\n",
    "\n",
    "# Zeige alle getesteten Parameterkombinationen (optional)\n",
    "for trial in study.trials:\n",
    "    print(f\"Parameter: {trial.params}, Zielwert: {trial.value}\")\n"
   ]
  }
 ],
 "metadata": {
  "kernelspec": {
   "display_name": "Python 3",
   "language": "python",
   "name": "python3"
  },
  "language_info": {
   "codemirror_mode": {
    "name": "ipython",
    "version": 3
   },
   "file_extension": ".py",
   "mimetype": "text/x-python",
   "name": "python",
   "nbconvert_exporter": "python",
   "pygments_lexer": "ipython3",
   "version": "3.9.6"
  }
 },
 "nbformat": 4,
 "nbformat_minor": 2
}
